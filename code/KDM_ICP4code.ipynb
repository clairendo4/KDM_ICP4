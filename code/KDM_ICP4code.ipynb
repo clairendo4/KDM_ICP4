{
  "nbformat": 4,
  "nbformat_minor": 0,
  "metadata": {
    "colab": {
      "name": " KDM_ICP4code.ipynb",
      "provenance": []
    },
    "kernelspec": {
      "name": "python3",
      "display_name": "Python 3"
    }
  },
  "cells": [
    {
      "cell_type": "markdown",
      "metadata": {
        "id": "iqjcwzS24Jr_"
      },
      "source": [
        "Setting up PySpark in Colab\r\n",
        "\r\n",
        "Spark is written in the Scala programming language and requires the Java Virtual Machine (JVM) to run. Therefore, our first task is to download Java"
      ]
    },
    {
      "cell_type": "code",
      "metadata": {
        "colab": {
          "base_uri": "https://localhost:8080/"
        },
        "id": "9iGswToj4LIS",
        "outputId": "89a8ac4b-ca8e-4dc4-8afb-b74c8e5c57f8"
      },
      "source": [
        "!sudo apt-get update\r\n",
        "!apt-get install openjdk-8-jdk-headless -qq > /dev/null"
      ],
      "execution_count": null,
      "outputs": [
        {
          "output_type": "stream",
          "text": [
            "Get:1 https://cloud.r-project.org/bin/linux/ubuntu bionic-cran40/ InRelease [3,626 B]\n",
            "Ign:2 https://developer.download.nvidia.com/compute/cuda/repos/ubuntu1804/x86_64  InRelease\n",
            "Get:3 https://cloud.r-project.org/bin/linux/ubuntu bionic-cran40/ Packages [45.4 kB]\n",
            "Ign:4 https://developer.download.nvidia.com/compute/machine-learning/repos/ubuntu1804/x86_64  InRelease\n",
            "Hit:5 https://developer.download.nvidia.com/compute/cuda/repos/ubuntu1804/x86_64  Release\n",
            "Hit:6 https://developer.download.nvidia.com/compute/machine-learning/repos/ubuntu1804/x86_64  Release\n",
            "Get:7 http://ppa.launchpad.net/c2d4u.team/c2d4u4.0+/ubuntu bionic InRelease [15.9 kB]\n",
            "Get:8 http://security.ubuntu.com/ubuntu bionic-security InRelease [88.7 kB]\n",
            "Hit:11 http://archive.ubuntu.com/ubuntu bionic InRelease\n",
            "Get:12 http://archive.ubuntu.com/ubuntu bionic-updates InRelease [88.7 kB]\n",
            "Hit:13 http://ppa.launchpad.net/cran/libgit2/ubuntu bionic InRelease\n",
            "Get:14 http://security.ubuntu.com/ubuntu bionic-security/universe amd64 Packages [1,391 kB]\n",
            "Get:15 http://archive.ubuntu.com/ubuntu bionic-backports InRelease [74.6 kB]\n",
            "Hit:16 http://ppa.launchpad.net/graphics-drivers/ppa/ubuntu bionic InRelease\n",
            "Get:17 http://archive.ubuntu.com/ubuntu bionic-updates/universe amd64 Packages [2,162 kB]\n",
            "Get:18 http://ppa.launchpad.net/c2d4u.team/c2d4u4.0+/ubuntu bionic/main Sources [1,732 kB]\n",
            "Get:19 http://security.ubuntu.com/ubuntu bionic-security/main amd64 Packages [1,929 kB]\n",
            "Get:20 http://archive.ubuntu.com/ubuntu bionic-updates/main amd64 Packages [2,360 kB]\n",
            "Get:21 http://ppa.launchpad.net/c2d4u.team/c2d4u4.0+/ubuntu bionic/main amd64 Packages [886 kB]\n",
            "Fetched 10.8 MB in 6s (1,889 kB/s)\n",
            "Reading package lists... Done\n"
          ],
          "name": "stdout"
        }
      ]
    },
    {
      "cell_type": "markdown",
      "metadata": {
        "id": "xzRtNPkq5VIR"
      },
      "source": [
        "Next, we will install Apache Spark 3.0.1 with Hadoop 2.7"
      ]
    },
    {
      "cell_type": "code",
      "metadata": {
        "id": "HBYZfbpk34H3"
      },
      "source": [
        "!wget -q https://www-us.apache.org/dist/spark/spark-3.0.1/spark-3.0.1-bin-hadoop2.7.tgz"
      ],
      "execution_count": null,
      "outputs": []
    },
    {
      "cell_type": "markdown",
      "metadata": {
        "id": "4L21HeCi5bde"
      },
      "source": [
        "Now, we just need to unzip that folder."
      ]
    },
    {
      "cell_type": "code",
      "metadata": {
        "id": "8-D2QoWK5cEg"
      },
      "source": [
        "!tar xf spark-3.0.1-bin-hadoop2.7.tgz"
      ],
      "execution_count": null,
      "outputs": []
    },
    {
      "cell_type": "markdown",
      "metadata": {
        "id": "grIssZqC8aYj"
      },
      "source": [
        "There is one last thing that we need to install and that is the findspark library. It will locate Spark on the system and import it as a regular library."
      ]
    },
    {
      "cell_type": "code",
      "metadata": {
        "id": "wke-MaxX57M9"
      },
      "source": [
        "!pip install -q findspark"
      ],
      "execution_count": null,
      "outputs": []
    },
    {
      "cell_type": "markdown",
      "metadata": {
        "id": "3AJ1RV578hE9"
      },
      "source": [
        "Now that we have installed all the necessary dependencies in Colab, it is time to set the environment path. This will enable us to run Pyspark in the Colab environment."
      ]
    },
    {
      "cell_type": "code",
      "metadata": {
        "id": "zvMEW0ol59ts"
      },
      "source": [
        "import os\r\n",
        "os.environ[\"JAVA_HOME\"] = \"/usr/lib/jvm/java-8-openjdk-amd64\"\r\n",
        "os.environ[\"SPARK_HOME\"] = \"/content/spark-3.0.1-bin-hadoop2.7\""
      ],
      "execution_count": null,
      "outputs": []
    },
    {
      "cell_type": "markdown",
      "metadata": {
        "id": "weGRBVLK8nKb"
      },
      "source": [
        "We need to locate Spark in the system. For that, we import findspark and use the findspark.init() method."
      ]
    },
    {
      "cell_type": "code",
      "metadata": {
        "id": "WSleoMKz6Ecg"
      },
      "source": [
        "import findspark\r\n",
        "findspark.init()"
      ],
      "execution_count": null,
      "outputs": []
    },
    {
      "cell_type": "markdown",
      "metadata": {
        "id": "r6gW5avs8yWa"
      },
      "source": [
        "If you want to know the location where Spark is installed, use findspark.find()"
      ]
    },
    {
      "cell_type": "code",
      "metadata": {
        "colab": {
          "base_uri": "https://localhost:8080/",
          "height": 35
        },
        "id": "a3EHL6x76KcK",
        "outputId": "13305cd4-1c15-4351-b694-78057a60d3f2"
      },
      "source": [
        "findspark.find()"
      ],
      "execution_count": null,
      "outputs": [
        {
          "output_type": "execute_result",
          "data": {
            "application/vnd.google.colaboratory.intrinsic+json": {
              "type": "string"
            },
            "text/plain": [
              "'/content/spark-3.0.1-bin-hadoop2.7'"
            ]
          },
          "metadata": {
            "tags": []
          },
          "execution_count": 8
        }
      ]
    },
    {
      "cell_type": "markdown",
      "metadata": {
        "id": "sI0EI6Ox87wT"
      },
      "source": [
        "Now, we can import SparkSession from pyspark.sql and create a SparkSession, which is the entry point to Spark.\r\n",
        "\r\n",
        "You can give a name to the session using appName() and add some configurations with config() if you wish."
      ]
    },
    {
      "cell_type": "code",
      "metadata": {
        "id": "IcGOvWMJ6PUo"
      },
      "source": [
        "from pyspark.sql import SparkSession\r\n",
        "\r\n",
        "spark = SparkSession.builder\\\r\n",
        "        .master(\"local\")\\\r\n",
        "        .appName(\"Colab\")\\\r\n",
        "        .config('spark.ui.port', '4050')\\\r\n",
        "        .getOrCreate()"
      ],
      "execution_count": null,
      "outputs": []
    },
    {
      "cell_type": "markdown",
      "metadata": {
        "id": "djWQ29kL9Ogy"
      },
      "source": [
        "Finally, print the SparkSession variable."
      ]
    },
    {
      "cell_type": "code",
      "metadata": {
        "colab": {
          "base_uri": "https://localhost:8080/",
          "height": 214
        },
        "id": "GvcENqE16XEj",
        "outputId": "46e9316d-a9c8-4165-b0c5-4fa70cbfb7b2"
      },
      "source": [
        "spark"
      ],
      "execution_count": null,
      "outputs": [
        {
          "output_type": "execute_result",
          "data": {
            "text/html": [
              "\n",
              "            <div>\n",
              "                <p><b>SparkSession - in-memory</b></p>\n",
              "                \n",
              "        <div>\n",
              "            <p><b>SparkContext</b></p>\n",
              "\n",
              "            <p><a href=\"http://878f2898abf4:4050\">Spark UI</a></p>\n",
              "\n",
              "            <dl>\n",
              "              <dt>Version</dt>\n",
              "                <dd><code>v3.0.1</code></dd>\n",
              "              <dt>Master</dt>\n",
              "                <dd><code>local</code></dd>\n",
              "              <dt>AppName</dt>\n",
              "                <dd><code>Colab</code></dd>\n",
              "            </dl>\n",
              "        </div>\n",
              "        \n",
              "            </div>\n",
              "        "
            ],
            "text/plain": [
              "<pyspark.sql.session.SparkSession at 0x7fdd43968b00>"
            ]
          },
          "metadata": {
            "tags": []
          },
          "execution_count": 10
        }
      ]
    },
    {
      "cell_type": "code",
      "metadata": {
        "colab": {
          "base_uri": "https://localhost:8080/"
        },
        "id": "e4btlV8p6b3Q",
        "outputId": "3be12702-cdb7-4c8e-b0a9-c70b966df0e3"
      },
      "source": [
        "#we need to load the dataset. We will use the read.csv module. \r\n",
        "#The inferSchema parameter provided will enable Spark to automatically determine the data type for each column but it has to go over the data once.\r\n",
        "# If you don’t want that to happen, then you can instead provide the schema explicitly in the schema parameter.\r\n",
        "\r\n",
        "df = spark.read.csv(\"/content/data.csv\", header=True, inferSchema= True)\r\n",
        "df.printSchema()"
      ],
      "execution_count": null,
      "outputs": [
        {
          "output_type": "stream",
          "text": [
            "root\n",
            " |-- customerID: string (nullable = true)\n",
            " |-- gender: string (nullable = true)\n",
            " |-- SeniorCitizen: integer (nullable = true)\n",
            " |-- Partner: string (nullable = true)\n",
            " |-- Dependents: string (nullable = true)\n",
            " |-- tenure: integer (nullable = true)\n",
            " |-- PhoneService: string (nullable = true)\n",
            " |-- MultipleLines: string (nullable = true)\n",
            " |-- InternetService: string (nullable = true)\n",
            " |-- OnlineSecurity: string (nullable = true)\n",
            " |-- OnlineBackup: string (nullable = true)\n",
            " |-- DeviceProtection: string (nullable = true)\n",
            " |-- TechSupport: string (nullable = true)\n",
            " |-- StreamingTV: string (nullable = true)\n",
            " |-- StreamingMovies: string (nullable = true)\n",
            " |-- Contract: string (nullable = true)\n",
            " |-- PaperlessBilling: string (nullable = true)\n",
            " |-- PaymentMethod: string (nullable = true)\n",
            " |-- MonthlyCharges: double (nullable = true)\n",
            " |-- TotalCharges: string (nullable = true)\n",
            " |-- Churn: string (nullable = true)\n",
            "\n"
          ],
          "name": "stdout"
        }
      ]
    },
    {
      "cell_type": "code",
      "metadata": {
        "colab": {
          "base_uri": "https://localhost:8080/"
        },
        "id": "w0U-Tk7V7NC5",
        "outputId": "c8e2ba53-f1c0-4bd4-f188-9e59efeb4455"
      },
      "source": [
        "df.show(5, truncate=False)"
      ],
      "execution_count": null,
      "outputs": [
        {
          "output_type": "stream",
          "text": [
            "+----------+------+-------------+-------+----------+------+------------+----------------+---------------+--------------+------------+----------------+-----------+-----------+---------------+--------------+----------------+-------------------------+--------------+------------+-----+\n",
            "|customerID|gender|SeniorCitizen|Partner|Dependents|tenure|PhoneService|MultipleLines   |InternetService|OnlineSecurity|OnlineBackup|DeviceProtection|TechSupport|StreamingTV|StreamingMovies|Contract      |PaperlessBilling|PaymentMethod            |MonthlyCharges|TotalCharges|Churn|\n",
            "+----------+------+-------------+-------+----------+------+------------+----------------+---------------+--------------+------------+----------------+-----------+-----------+---------------+--------------+----------------+-------------------------+--------------+------------+-----+\n",
            "|7590-VHVEG|Female|0            |Yes    |No        |1     |No          |No phone service|DSL            |No            |Yes         |No              |No         |No         |No             |Month-to-month|Yes             |Electronic check         |29.85         |29.85       |No   |\n",
            "|5575-GNVDE|Male  |0            |No     |No        |34    |Yes         |No              |DSL            |Yes           |No          |Yes             |No         |No         |No             |One year      |No              |Mailed check             |56.95         |1889.5      |No   |\n",
            "|3668-QPYBK|Male  |0            |No     |No        |2     |Yes         |No              |DSL            |Yes           |Yes         |No              |No         |No         |No             |Month-to-month|Yes             |Mailed check             |53.85         |108.15      |Yes  |\n",
            "|7795-CFOCW|Male  |0            |No     |No        |45    |No          |No phone service|DSL            |Yes           |No          |Yes             |Yes        |No         |No             |One year      |No              |Bank transfer (automatic)|42.3          |1840.75     |No   |\n",
            "|9237-HQITU|Female|0            |No     |No        |2     |Yes         |No              |Fiber optic    |No            |No          |No              |No         |No         |No             |Month-to-month|Yes             |Electronic check         |70.7          |151.65      |Yes  |\n",
            "+----------+------+-------------+-------+----------+------+------------+----------------+---------------+--------------+------------+----------------+-----------+-----------+---------------+--------------+----------------+-------------------------+--------------+------------+-----+\n",
            "only showing top 5 rows\n",
            "\n"
          ],
          "name": "stdout"
        }
      ]
    },
    {
      "cell_type": "code",
      "metadata": {
        "colab": {
          "base_uri": "https://localhost:8080/"
        },
        "id": "fZkvWbw97S7Y",
        "outputId": "eb13f9f1-4ee5-48f6-8fe2-fd4a76decb6d"
      },
      "source": [
        "#If you didn't set inderShema to True, here is what is happening to the type. There are all in string.\r\n",
        "df_string = spark.read.csv(\"/content/data.csv\", header=True, inferSchema=  False)\r\n",
        "df_string.printSchema()"
      ],
      "execution_count": null,
      "outputs": [
        {
          "output_type": "stream",
          "text": [
            "root\n",
            " |-- customerID: string (nullable = true)\n",
            " |-- gender: string (nullable = true)\n",
            " |-- SeniorCitizen: string (nullable = true)\n",
            " |-- Partner: string (nullable = true)\n",
            " |-- Dependents: string (nullable = true)\n",
            " |-- tenure: string (nullable = true)\n",
            " |-- PhoneService: string (nullable = true)\n",
            " |-- MultipleLines: string (nullable = true)\n",
            " |-- InternetService: string (nullable = true)\n",
            " |-- OnlineSecurity: string (nullable = true)\n",
            " |-- OnlineBackup: string (nullable = true)\n",
            " |-- DeviceProtection: string (nullable = true)\n",
            " |-- TechSupport: string (nullable = true)\n",
            " |-- StreamingTV: string (nullable = true)\n",
            " |-- StreamingMovies: string (nullable = true)\n",
            " |-- Contract: string (nullable = true)\n",
            " |-- PaperlessBilling: string (nullable = true)\n",
            " |-- PaymentMethod: string (nullable = true)\n",
            " |-- MonthlyCharges: string (nullable = true)\n",
            " |-- TotalCharges: string (nullable = true)\n",
            " |-- Churn: string (nullable = true)\n",
            "\n"
          ],
          "name": "stdout"
        }
      ]
    },
    {
      "cell_type": "code",
      "metadata": {
        "colab": {
          "base_uri": "https://localhost:8080/"
        },
        "id": "5mgfvQEo74_Y",
        "outputId": "40d7ea43-1e49-4423-8459-8236fd54e2e5"
      },
      "source": [
        "#You can select and show the rows with select and the names of the features. Below, gender and churn are selected.\r\n",
        "df.select('gender','churn').show(5)"
      ],
      "execution_count": null,
      "outputs": [
        {
          "output_type": "stream",
          "text": [
            "+------+-----+\n",
            "|gender|churn|\n",
            "+------+-----+\n",
            "|Female|   No|\n",
            "|  Male|   No|\n",
            "|  Male|  Yes|\n",
            "|  Male|   No|\n",
            "|Female|  Yes|\n",
            "+------+-----+\n",
            "only showing top 5 rows\n",
            "\n"
          ],
          "name": "stdout"
        }
      ]
    },
    {
      "cell_type": "code",
      "metadata": {
        "colab": {
          "base_uri": "https://localhost:8080/"
        },
        "id": "B-aXM9_x8BIU",
        "outputId": "253aa79a-1b60-4ac8-eeeb-47116acdc0fc"
      },
      "source": [
        "#To get a summary statistics, of the data, you can use describe(). It will compute the :count, mean, standarddeviation, min, max\r\n",
        "df.describe().show()"
      ],
      "execution_count": null,
      "outputs": [
        {
          "output_type": "stream",
          "text": [
            "+-------+----------+------+------------------+-------+----------+------------------+------------+-------------+---------------+--------------+------------+----------------+-----------+-----------+---------------+--------------+----------------+--------------------+------------------+------------------+-----+\n",
            "|summary|customerID|gender|     SeniorCitizen|Partner|Dependents|            tenure|PhoneService|MultipleLines|InternetService|OnlineSecurity|OnlineBackup|DeviceProtection|TechSupport|StreamingTV|StreamingMovies|      Contract|PaperlessBilling|       PaymentMethod|    MonthlyCharges|      TotalCharges|Churn|\n",
            "+-------+----------+------+------------------+-------+----------+------------------+------------+-------------+---------------+--------------+------------+----------------+-----------+-----------+---------------+--------------+----------------+--------------------+------------------+------------------+-----+\n",
            "|  count|      7043|  7043|              7043|   7043|      7043|              7043|        7043|         7043|           7043|          7043|        7043|            7043|       7043|       7043|           7043|          7043|            7043|                7043|              7043|              7043| 7043|\n",
            "|   mean|      null|  null|0.1621468124378816|   null|      null| 32.37114865824223|        null|         null|           null|          null|        null|            null|       null|       null|           null|          null|            null|                null| 64.76169246059922|2283.3004408418697| null|\n",
            "| stddev|      null|  null|0.3686116056100135|   null|      null|24.559481023094442|        null|         null|           null|          null|        null|            null|       null|       null|           null|          null|            null|                null|30.090047097678482| 2266.771361883145| null|\n",
            "|    min|0002-ORFBO|Female|                 0|     No|        No|                 0|          No|           No|            DSL|            No|          No|              No|         No|         No|             No|Month-to-month|              No|Bank transfer (au...|             18.25|                  |   No|\n",
            "|    max|9995-HOTOH|  Male|                 1|    Yes|       Yes|                72|         Yes|          Yes|             No|           Yes|         Yes|             Yes|        Yes|        Yes|            Yes|      Two year|             Yes|        Mailed check|            118.75|             999.9|  Yes|\n",
            "+-------+----------+------+------------------+-------+----------+------------------+------------+-------------+---------------+--------------+------------+----------------+-----------+-----------+---------------+--------------+----------------+--------------------+------------------+------------------+-----+\n",
            "\n"
          ],
          "name": "stdout"
        }
      ]
    },
    {
      "cell_type": "code",
      "metadata": {
        "colab": {
          "base_uri": "https://localhost:8080/"
        },
        "id": "ccQW1Roy97p7",
        "outputId": "a8ba98ce-350c-43af-e854-f031514a1a7b"
      },
      "source": [
        "#Distinct values for Categorical columns\r\n",
        "#The distinct() will come in handy when you want to determine the unique values in the categorical columns in the dataframe.\r\n",
        "\r\n",
        "df.select(\"PaymentMethod\").distinct().show()"
      ],
      "execution_count": null,
      "outputs": [
        {
          "output_type": "stream",
          "text": [
            "+--------------------+\n",
            "|       PaymentMethod|\n",
            "+--------------------+\n",
            "|Credit card (auto...|\n",
            "|        Mailed check|\n",
            "|Bank transfer (au...|\n",
            "|    Electronic check|\n",
            "+--------------------+\n",
            "\n"
          ],
          "name": "stdout"
        }
      ]
    },
    {
      "cell_type": "markdown",
      "metadata": {
        "id": "F4bIDytH1Zxq"
      },
      "source": [
        "**ICP STARTS HERE**"
      ]
    },
    {
      "cell_type": "markdown",
      "metadata": {
        "id": "LaZTk3HOSExB"
      },
      "source": [
        "**1. Spark Transformations**"
      ]
    },
    {
      "cell_type": "markdown",
      "metadata": {
        "id": "lU9n68b1PRFu"
      },
      "source": [
        "**a) Filter: Here i am using the filter function to show only information for those who pay with electronic check and have one year contracts**"
      ]
    },
    {
      "cell_type": "code",
      "metadata": {
        "colab": {
          "base_uri": "https://localhost:8080/"
        },
        "id": "B2imAxK9NSYa",
        "outputId": "e340ef3c-9895-44b9-c149-07ddec2e1e39"
      },
      "source": [
        "df.filter(\"PaymentMethod='Electronic check' and contract='One year'\").show()"
      ],
      "execution_count": null,
      "outputs": [
        {
          "output_type": "stream",
          "text": [
            "+----------+------+-------------+-------+----------+------+------------+----------------+---------------+-------------------+-------------------+-------------------+-------------------+-------------------+-------------------+--------+----------------+----------------+--------------+------------+-----+\n",
            "|customerID|gender|SeniorCitizen|Partner|Dependents|tenure|PhoneService|   MultipleLines|InternetService|     OnlineSecurity|       OnlineBackup|   DeviceProtection|        TechSupport|        StreamingTV|    StreamingMovies|Contract|PaperlessBilling|   PaymentMethod|MonthlyCharges|TotalCharges|Churn|\n",
            "+----------+------+-------------+-------+----------+------+------------+----------------+---------------+-------------------+-------------------+-------------------+-------------------+-------------------+-------------------+--------+----------------+----------------+--------------+------------+-----+\n",
            "|5067-XJQFU|  Male|            1|    Yes|       Yes|    66|         Yes|             Yes|    Fiber optic|                 No|                Yes|                Yes|                Yes|                Yes|                Yes|One year|             Yes|Electronic check|        108.45|     7076.35|   No|\n",
            "|8627-ZYGSZ|  Male|            0|    Yes|        No|    47|         Yes|             Yes|    Fiber optic|                 No|                Yes|                 No|                 No|                 No|                 No|One year|             Yes|Electronic check|          78.9|     3650.35|   No|\n",
            "|0731-EBJQB|Female|            0|    Yes|       Yes|    52|         Yes|              No|             No|No internet service|No internet service|No internet service|No internet service|No internet service|No internet service|One year|             Yes|Electronic check|          20.4|     1090.65|   No|\n",
            "|2673-CXQEU|Female|            1|     No|        No|    56|         Yes|             Yes|    Fiber optic|                Yes|                Yes|                Yes|                 No|                Yes|                Yes|One year|              No|Electronic check|         110.5|      6139.5|   No|\n",
            "|6728-DKUCO|Female|            0|    Yes|       Yes|    72|         Yes|             Yes|    Fiber optic|                Yes|                Yes|                 No|                 No|                Yes|                Yes|One year|             Yes|Electronic check|        104.15|     7303.05|   No|\n",
            "|2639-UGMAZ|  Male|            1|     No|        No|    71|          No|No phone service|            DSL|                Yes|                Yes|                 No|                 No|                Yes|                Yes|One year|             Yes|Electronic check|         56.45|     3985.35|   No|\n",
            "|0956-SYCWG|Female|            0|     No|        No|    13|         Yes|              No|             No|No internet service|No internet service|No internet service|No internet service|No internet service|No internet service|One year|              No|Electronic check|         19.65|       244.8|   No|\n",
            "|4709-LKHYG|Female|            0|    Yes|       Yes|    29|         Yes|              No|             No|No internet service|No internet service|No internet service|No internet service|No internet service|No internet service|One year|              No|Electronic check|          20.0|      540.05|   No|\n",
            "|6469-MRVET|  Male|            0|    Yes|       Yes|     1|         Yes|              No|             No|No internet service|No internet service|No internet service|No internet service|No internet service|No internet service|One year|             Yes|Electronic check|          20.2|        20.2|   No|\n",
            "|0959-WHOKV|  Male|            0|     No|        No|    42|         Yes|             Yes|    Fiber optic|                Yes|                Yes|                Yes|                 No|                 No|                Yes|One year|             Yes|Electronic check|          99.0|     4298.45|   No|\n",
            "|4075-JFPGR|Female|            0|    Yes|        No|    51|         Yes|              No|    Fiber optic|                Yes|                Yes|                Yes|                 No|                Yes|                 No|One year|             Yes|Electronic check|          93.5|     4619.55|   No|\n",
            "|9833-TGFHX|  Male|            0|    Yes|       Yes|    42|         Yes|             Yes|    Fiber optic|                Yes|                 No|                 No|                 No|                Yes|                Yes|One year|              No|Electronic check|          97.1|     4016.75|   No|\n",
            "|5686-CMAWK|  Male|            0|     No|        No|    17|         Yes|             Yes|    Fiber optic|                 No|                 No|                Yes|                Yes|                 No|                 No|One year|              No|Electronic check|         86.75|     1410.25|   No|\n",
            "|1708-PBBOA|Female|            0|     No|        No|    42|          No|No phone service|            DSL|                Yes|                Yes|                Yes|                Yes|                 No|                Yes|One year|             Yes|Electronic check|         54.75|     2348.45|   No|\n",
            "|5968-XQIVE|  Male|            0|    Yes|       Yes|    72|         Yes|             Yes|    Fiber optic|                 No|                Yes|                 No|                 No|                Yes|                 No|One year|             Yes|Electronic check|          89.7|     6588.95|   No|\n",
            "|5174-ITUMV|  Male|            0|    Yes|       Yes|    67|         Yes|             Yes|    Fiber optic|                 No|                Yes|                Yes|                 No|                Yes|                Yes|One year|             Yes|Electronic check|         105.4|     6989.45|   No|\n",
            "|0750-EBAIU|  Male|            0|     No|        No|    52|         Yes|              No|    Fiber optic|                Yes|                 No|                Yes|                 No|                Yes|                 No|One year|              No|Electronic check|         91.25|      4738.3|   No|\n",
            "|6815-ABQFQ|  Male|            0|    Yes|        No|    56|         Yes|             Yes|    Fiber optic|                 No|                Yes|                 No|                Yes|                Yes|                Yes|One year|             Yes|Electronic check|        107.25|      6033.3|   No|\n",
            "|6967-QIQRV|  Male|            0|    Yes|       Yes|    15|         Yes|              No|    Fiber optic|                Yes|                 No|                 No|                Yes|                Yes|                Yes|One year|              No|Electronic check|         101.9|     1667.25|   No|\n",
            "|5512-IDZEI|  Male|            0|    Yes|       Yes|    46|         Yes|             Yes|             No|No internet service|No internet service|No internet service|No internet service|No internet service|No internet service|One year|              No|Electronic check|          24.9|      1174.8|   No|\n",
            "+----------+------+-------------+-------+----------+------+------------+----------------+---------------+-------------------+-------------------+-------------------+-------------------+-------------------+-------------------+--------+----------------+----------------+--------------+------------+-----+\n",
            "only showing top 20 rows\n",
            "\n"
          ],
          "name": "stdout"
        }
      ]
    },
    {
      "cell_type": "code",
      "metadata": {
        "colab": {
          "base_uri": "https://localhost:8080/"
        },
        "id": "91diirMdepON",
        "outputId": "f1bfa38b-605c-43fc-f264-fecfd318659c"
      },
      "source": [
        "df.filter(\"TotalCharges < 500\").select(['Contract', 'TotalCharges']).show()"
      ],
      "execution_count": null,
      "outputs": [
        {
          "output_type": "stream",
          "text": [
            "+--------------+------------+\n",
            "|      Contract|TotalCharges|\n",
            "+--------------+------------+\n",
            "|Month-to-month|       29.85|\n",
            "|Month-to-month|      108.15|\n",
            "|Month-to-month|      151.65|\n",
            "|Month-to-month|       301.9|\n",
            "|      Two year|       326.8|\n",
            "|Month-to-month|       39.65|\n",
            "|      One year|      202.25|\n",
            "|Month-to-month|       20.15|\n",
            "|Month-to-month|        30.2|\n",
            "|Month-to-month|      181.65|\n",
            "|Month-to-month|        20.2|\n",
            "|Month-to-month|       45.25|\n",
            "|Month-to-month|       316.9|\n",
            "|      One year|       475.7|\n",
            "|      One year|      418.25|\n",
            "|Month-to-month|          97|\n",
            "|Month-to-month|      144.15|\n",
            "|Month-to-month|       244.1|\n",
            "|Month-to-month|       49.05|\n",
            "|Month-to-month|       177.4|\n",
            "+--------------+------------+\n",
            "only showing top 20 rows\n",
            "\n"
          ],
          "name": "stdout"
        }
      ]
    },
    {
      "cell_type": "markdown",
      "metadata": {
        "id": "ekXZNW0ium01"
      },
      "source": [
        "**b) Groupby: telling spark to group my data by customer ID and internetservice and i am getting the maximum charge for each internetservice and customer that pays for it**"
      ]
    },
    {
      "cell_type": "code",
      "metadata": {
        "colab": {
          "base_uri": "https://localhost:8080/"
        },
        "id": "MmWB2iu0koqp",
        "outputId": "cefe8431-6d11-47df-e0a6-80caa8fd3dce"
      },
      "source": [
        "max_date=df.agg({\"TotalCharges\":\"max\"})\r\n",
        "max_date.show()"
      ],
      "execution_count": null,
      "outputs": [
        {
          "output_type": "stream",
          "text": [
            "+-----------------+\n",
            "|max(TotalCharges)|\n",
            "+-----------------+\n",
            "|            999.9|\n",
            "+-----------------+\n",
            "\n"
          ],
          "name": "stdout"
        }
      ]
    },
    {
      "cell_type": "code",
      "metadata": {
        "colab": {
          "base_uri": "https://localhost:8080/"
        },
        "id": "uwlzBT6zqDw5",
        "outputId": "0d72fec2-a731-450d-c29f-519587fb2952"
      },
      "source": [
        "import pyspark.sql.functions as F\r\n",
        "df.groupBy(\"customerID\",\"InternetService\").agg(F.max(\"TotalCharges\")).show()"
      ],
      "execution_count": null,
      "outputs": [
        {
          "output_type": "stream",
          "text": [
            "+------+---------------+-----------------+\n",
            "|gender|InternetService|max(TotalCharges)|\n",
            "+------+---------------+-----------------+\n",
            "|  Male|             No|           997.75|\n",
            "|  Male|    Fiber optic|            999.8|\n",
            "|Female|    Fiber optic|            999.9|\n",
            "|Female|             No|            998.1|\n",
            "|  Male|            DSL|           990.85|\n",
            "|Female|            DSL|           996.85|\n",
            "+------+---------------+-----------------+\n",
            "\n"
          ],
          "name": "stdout"
        }
      ]
    },
    {
      "cell_type": "markdown",
      "metadata": {
        "id": "-zZ7SZKsv5rr"
      },
      "source": [
        "**c) Join setting an alias to our max total charges. and i will be joining the above df to the main df**"
      ]
    },
    {
      "cell_type": "code",
      "metadata": {
        "colab": {
          "base_uri": "https://localhost:8080/"
        },
        "id": "oGyfff8uv9BB",
        "outputId": "02f52daa-cbf1-42b1-c871-f1267cdf0dbf"
      },
      "source": [
        "df.join(df.groupBy(\"CustomerID\",\"InternetService\").agg(F.max(\"TotalCharges\").alias(\"TotalCharges\")),on=['customerID', 'InternetService', 'TotalCharges'],how=\"inner\").show()"
      ],
      "execution_count": null,
      "outputs": [
        {
          "output_type": "stream",
          "text": [
            "+----------+---------------+------------+------+-------------+-------+----------+------+------------+----------------+-------------------+-------------------+-------------------+-------------------+-------------------+-------------------+--------------+----------------+--------------------+--------------+-----+\n",
            "|customerID|InternetService|TotalCharges|gender|SeniorCitizen|Partner|Dependents|tenure|PhoneService|   MultipleLines|     OnlineSecurity|       OnlineBackup|   DeviceProtection|        TechSupport|        StreamingTV|    StreamingMovies|      Contract|PaperlessBilling|       PaymentMethod|MonthlyCharges|Churn|\n",
            "+----------+---------------+------------+------+-------------+-------+----------+------+------------+----------------+-------------------+-------------------+-------------------+-------------------+-------------------+-------------------+--------------+----------------+--------------------+--------------+-----+\n",
            "|7590-VHVEG|            DSL|       29.85|Female|            0|    Yes|        No|     1|          No|No phone service|                 No|                Yes|                 No|                 No|                 No|                 No|Month-to-month|             Yes|    Electronic check|         29.85|   No|\n",
            "|5575-GNVDE|            DSL|      1889.5|  Male|            0|     No|        No|    34|         Yes|              No|                Yes|                 No|                Yes|                 No|                 No|                 No|      One year|              No|        Mailed check|         56.95|   No|\n",
            "|3668-QPYBK|            DSL|      108.15|  Male|            0|     No|        No|     2|         Yes|              No|                Yes|                Yes|                 No|                 No|                 No|                 No|Month-to-month|             Yes|        Mailed check|         53.85|  Yes|\n",
            "|7795-CFOCW|            DSL|     1840.75|  Male|            0|     No|        No|    45|          No|No phone service|                Yes|                 No|                Yes|                Yes|                 No|                 No|      One year|              No|Bank transfer (au...|          42.3|   No|\n",
            "|9237-HQITU|    Fiber optic|      151.65|Female|            0|     No|        No|     2|         Yes|              No|                 No|                 No|                 No|                 No|                 No|                 No|Month-to-month|             Yes|    Electronic check|          70.7|  Yes|\n",
            "|9305-CDSKC|    Fiber optic|       820.5|Female|            0|     No|        No|     8|         Yes|             Yes|                 No|                 No|                Yes|                 No|                Yes|                Yes|Month-to-month|             Yes|    Electronic check|         99.65|  Yes|\n",
            "|1452-KIOVK|    Fiber optic|      1949.4|  Male|            0|     No|       Yes|    22|         Yes|             Yes|                 No|                Yes|                 No|                 No|                Yes|                 No|Month-to-month|             Yes|Credit card (auto...|          89.1|   No|\n",
            "|6713-OKOMC|            DSL|       301.9|Female|            0|     No|        No|    10|          No|No phone service|                Yes|                 No|                 No|                 No|                 No|                 No|Month-to-month|              No|        Mailed check|         29.75|   No|\n",
            "|7892-POOKP|    Fiber optic|     3046.05|Female|            0|    Yes|        No|    28|         Yes|             Yes|                 No|                 No|                Yes|                Yes|                Yes|                Yes|Month-to-month|             Yes|    Electronic check|         104.8|  Yes|\n",
            "|6388-TABGU|            DSL|     3487.95|  Male|            0|     No|       Yes|    62|         Yes|              No|                Yes|                Yes|                 No|                 No|                 No|                 No|      One year|              No|Bank transfer (au...|         56.15|   No|\n",
            "|9763-GRSKD|            DSL|      587.45|  Male|            0|    Yes|       Yes|    13|         Yes|              No|                Yes|                 No|                 No|                 No|                 No|                 No|Month-to-month|             Yes|        Mailed check|         49.95|   No|\n",
            "|7469-LKBCI|             No|       326.8|  Male|            0|     No|        No|    16|         Yes|              No|No internet service|No internet service|No internet service|No internet service|No internet service|No internet service|      Two year|              No|Credit card (auto...|         18.95|   No|\n",
            "|8091-TTVAX|    Fiber optic|      5681.1|  Male|            0|    Yes|        No|    58|         Yes|             Yes|                 No|                 No|                Yes|                 No|                Yes|                Yes|      One year|              No|Credit card (auto...|        100.35|   No|\n",
            "|0280-XJGEX|    Fiber optic|      5036.3|  Male|            0|     No|        No|    49|         Yes|             Yes|                 No|                Yes|                Yes|                 No|                Yes|                Yes|Month-to-month|             Yes|Bank transfer (au...|         103.7|  Yes|\n",
            "|5129-JLPIS|    Fiber optic|     2686.05|  Male|            0|     No|        No|    25|         Yes|              No|                Yes|                 No|                Yes|                Yes|                Yes|                Yes|Month-to-month|             Yes|    Electronic check|         105.5|   No|\n",
            "|3655-SNQYZ|    Fiber optic|     7895.15|Female|            0|    Yes|       Yes|    69|         Yes|             Yes|                Yes|                Yes|                Yes|                Yes|                Yes|                Yes|      Two year|              No|Credit card (auto...|        113.25|   No|\n",
            "|8191-XWSZG|             No|     1022.95|Female|            0|     No|        No|    52|         Yes|              No|No internet service|No internet service|No internet service|No internet service|No internet service|No internet service|      One year|              No|        Mailed check|         20.65|   No|\n",
            "|9959-WOFKT|    Fiber optic|     7382.25|  Male|            0|     No|       Yes|    71|         Yes|             Yes|                Yes|                 No|                Yes|                 No|                Yes|                Yes|      Two year|              No|Bank transfer (au...|         106.7|   No|\n",
            "|4190-MFLUW|            DSL|      528.35|Female|            0|    Yes|       Yes|    10|         Yes|              No|                 No|                 No|                Yes|                Yes|                 No|                 No|Month-to-month|              No|Credit card (auto...|          55.2|  Yes|\n",
            "|4183-MYFRB|    Fiber optic|      1862.9|Female|            0|     No|        No|    21|         Yes|              No|                 No|                Yes|                Yes|                 No|                 No|                Yes|Month-to-month|             Yes|    Electronic check|         90.05|   No|\n",
            "+----------+---------------+------------+------+-------------+-------+----------+------+------------+----------------+-------------------+-------------------+-------------------+-------------------+-------------------+-------------------+--------------+----------------+--------------------+--------------+-----+\n",
            "only showing top 20 rows\n",
            "\n"
          ],
          "name": "stdout"
        }
      ]
    },
    {
      "cell_type": "markdown",
      "metadata": {
        "id": "wtcy_uOiei-s"
      },
      "source": [
        "**Sort**"
      ]
    },
    {
      "cell_type": "markdown",
      "metadata": {
        "id": "hilA31mQ1UNV"
      },
      "source": [
        "**we can add sort in order of payment method**"
      ]
    },
    {
      "cell_type": "code",
      "metadata": {
        "colab": {
          "base_uri": "https://localhost:8080/"
        },
        "id": "Rifi4AYv0o9u",
        "outputId": "bd479aad-6bc5-479b-f33c-68875c342820"
      },
      "source": [
        "df.join(df.groupBy(\"CustomerID\",\"InternetService\").agg(F.max(\"TotalCharges\").alias(\"TotalCharges\")),on=['customerID', 'InternetService', 'TotalCharges'],how=\"inner\").sort(\"PaymentMethod\",ascending=False).show(10)"
      ],
      "execution_count": null,
      "outputs": [
        {
          "output_type": "stream",
          "text": [
            "+----------+---------------+------------+------+-------------+-------+----------+------+------------+----------------+-------------------+-------------------+-------------------+-------------------+-------------------+-------------------+--------------+----------------+-------------+--------------+-----+\n",
            "|customerID|InternetService|TotalCharges|gender|SeniorCitizen|Partner|Dependents|tenure|PhoneService|   MultipleLines|     OnlineSecurity|       OnlineBackup|   DeviceProtection|        TechSupport|        StreamingTV|    StreamingMovies|      Contract|PaperlessBilling|PaymentMethod|MonthlyCharges|Churn|\n",
            "+----------+---------------+------------+------+-------------+-------+----------+------+------------+----------------+-------------------+-------------------+-------------------+-------------------+-------------------+-------------------+--------------+----------------+-------------+--------------+-----+\n",
            "|8773-HHUOZ|            DSL|      1093.1|Female|            0|     No|       Yes|    17|         Yes|              No|                 No|                 No|                 No|                 No|                Yes|                Yes|Month-to-month|             Yes| Mailed check|          64.7|  Yes|\n",
            "|3016-KSVCP|            DSL|     1009.25|  Male|            0|    Yes|        No|    29|          No|No phone service|                 No|                 No|                 No|                 No|                Yes|                 No|Month-to-month|              No| Mailed check|         33.75|   No|\n",
            "|6827-IEAUQ|            DSL|     1874.45|Female|            0|    Yes|       Yes|    27|         Yes|              No|                Yes|                Yes|                Yes|                Yes|                 No|                 No|      One year|              No| Mailed check|         66.15|   No|\n",
            "|3668-QPYBK|            DSL|      108.15|  Male|            0|     No|        No|     2|         Yes|              No|                Yes|                Yes|                 No|                 No|                 No|                 No|Month-to-month|             Yes| Mailed check|         53.85|  Yes|\n",
            "|8865-TNMNX|            DSL|       475.7|  Male|            0|    Yes|       Yes|    10|         Yes|              No|                 No|                Yes|                 No|                 No|                 No|                 No|      One year|              No| Mailed check|         49.55|   No|\n",
            "|1066-JKSGK|             No|       20.15|  Male|            0|     No|        No|     1|         Yes|              No|No internet service|No internet service|No internet service|No internet service|No internet service|No internet service|Month-to-month|              No| Mailed check|         20.15|  Yes|\n",
            "|9867-JCZSP|             No|      418.25|Female|            0|    Yes|       Yes|    17|         Yes|              No|No internet service|No internet service|No internet service|No internet service|No internet service|No internet service|      One year|              No| Mailed check|         20.75|   No|\n",
            "|8191-XWSZG|             No|     1022.95|Female|            0|     No|        No|    52|         Yes|              No|No internet service|No internet service|No internet service|No internet service|No internet service|No internet service|      One year|              No| Mailed check|         20.65|   No|\n",
            "|5948-UJZLF|            DSL|          97|  Male|            0|     No|        No|     2|         Yes|              No|                 No|                Yes|                 No|                 No|                 No|                 No|Month-to-month|              No| Mailed check|         49.25|   No|\n",
            "|7410-OIEDU|    Fiber optic|      887.35|  Male|            0|     No|        No|    10|         Yes|              No|                Yes|                 No|                Yes|                 No|                 No|                 No|Month-to-month|             Yes| Mailed check|         79.85|   No|\n",
            "+----------+---------------+------------+------+-------------+-------+----------+------+------------+----------------+-------------------+-------------------+-------------------+-------------------+-------------------+-------------------+--------------+----------------+-------------+--------------+-----+\n",
            "only showing top 10 rows\n",
            "\n"
          ],
          "name": "stdout"
        }
      ]
    },
    {
      "cell_type": "markdown",
      "metadata": {
        "id": "r6pU_Ey4i_oq"
      },
      "source": [
        "**showing results with totalcharges greater that $1500**"
      ]
    },
    {
      "cell_type": "code",
      "metadata": {
        "colab": {
          "base_uri": "https://localhost:8080/"
        },
        "id": "MukEx3OHiOXM",
        "outputId": "9f30f178-adc5-4344-aff1-4284fd4098f1"
      },
      "source": [
        "df.filter('TotalCharges>1500').sort(col('TotalCharges')).show()"
      ],
      "execution_count": null,
      "outputs": [
        {
          "output_type": "stream",
          "text": [
            "+----------+------+-------------+-------+----------+------+------------+----------------+---------------+-------------------+-------------------+-------------------+-------------------+-------------------+-------------------+--------------+----------------+--------------------+--------------+------------+-----+\n",
            "|customerID|gender|SeniorCitizen|Partner|Dependents|tenure|PhoneService|   MultipleLines|InternetService|     OnlineSecurity|       OnlineBackup|   DeviceProtection|        TechSupport|        StreamingTV|    StreamingMovies|      Contract|PaperlessBilling|       PaymentMethod|MonthlyCharges|TotalCharges|Churn|\n",
            "+----------+------+-------------+-------+----------+------+------------+----------------+---------------+-------------------+-------------------+-------------------+-------------------+-------------------+-------------------+--------------+----------------+--------------------+--------------+------------+-----+\n",
            "|6614-YWYSC|  Male|            1|    Yes|        No|    61|         Yes|             Yes|             No|No internet service|No internet service|No internet service|No internet service|No internet service|No internet service|      Two year|              No|Bank transfer (au...|          25.0|     1501.75|   No|\n",
            "|1927-QEWMY|Female|            0|    Yes|        No|    72|         Yes|              No|             No|No internet service|No internet service|No internet service|No internet service|No internet service|No internet service|      Two year|              No|Credit card (auto...|          20.5|     1502.25|   No|\n",
            "|6207-WIOLX|Female|            0|    Yes|       Yes|    25|          No|No phone service|            DSL|                Yes|                Yes|                Yes|                 No|                Yes|                Yes|Month-to-month|             Yes|Credit card (auto...|          58.6|     1502.65|  Yes|\n",
            "|0680-DFNNY|  Male|            0|    Yes|        No|    15|         Yes|             Yes|    Fiber optic|                 No|                 No|                Yes|                 No|                Yes|                Yes|Month-to-month|             Yes|    Electronic check|         101.1|     1504.05|  Yes|\n",
            "|9087-EYCPR|Female|            0|     No|        No|    60|         Yes|             Yes|             No|No internet service|No internet service|No internet service|No internet service|No internet service|No internet service|      Two year|              No|        Mailed check|          25.0|     1505.05|   No|\n",
            "|2155-AMQRX|Female|            0|     No|        No|    28|         Yes|             Yes|            DSL|                 No|                 No|                 No|                Yes|                 No|                 No|Month-to-month|             Yes|Credit card (auto...|          54.9|     1505.15|   No|\n",
            "|7233-IOQNP|Female|            0|    Yes|        No|    43|          No|No phone service|            DSL|                Yes|                 No|                 No|                Yes|                 No|                 No|Month-to-month|              No|Bank transfer (au...|          34.0|     1505.35|   No|\n",
            "|6833-JMZYP|Female|            0|     No|        No|    15|         Yes|              No|    Fiber optic|                 No|                 No|                Yes|                 No|                Yes|                Yes|Month-to-month|             Yes|Credit card (auto...|          94.0|     1505.45|   No|\n",
            "|5914-DVBWJ|Female|            1|     No|        No|    18|         Yes|             Yes|    Fiber optic|                 No|                Yes|                 No|                Yes|                 No|                 No|Month-to-month|             Yes|    Electronic check|         85.45|     1505.85|  Yes|\n",
            "|7471-WNSUF|  Male|            0|    Yes|        No|    60|         Yes|             Yes|             No|No internet service|No internet service|No internet service|No internet service|No internet service|No internet service|      One year|              No|Bank transfer (au...|         24.15|      1505.9|   No|\n",
            "|1599-EAHXY|  Male|            0|    Yes|       Yes|    60|         Yes|             Yes|             No|No internet service|No internet service|No internet service|No internet service|No internet service|No internet service|      One year|              No|Credit card (auto...|         23.95|      1506.4|   No|\n",
            "|3205-MXZRA|  Male|            0|     No|        No|    26|         Yes|              No|            DSL|                 No|                 No|                 No|                Yes|                Yes|                 No|      One year|              No|Credit card (auto...|         59.45|        1507|   No|\n",
            "|0895-LMRSF|  Male|            0|     No|        No|    23|         Yes|              No|            DSL|                 No|                 No|                 No|                 No|                Yes|                Yes|      One year|             Yes|Bank transfer (au...|          64.9|      1509.8|   No|\n",
            "|4534-WGCIR|Female|            0|    Yes|       Yes|    58|         Yes|             Yes|             No|No internet service|No internet service|No internet service|No internet service|No internet service|No internet service|      Two year|              No|Credit card (auto...|         25.15|      1509.9|   No|\n",
            "|0285-INHLN|  Male|            0|    Yes|       Yes|    27|         Yes|              No|            DSL|                Yes|                Yes|                 No|                 No|                 No|                 No|Month-to-month|             Yes|Credit card (auto...|         54.75|      1510.3|   No|\n",
            "|4458-KVRBJ|  Male|            0|     No|        No|    59|         Yes|             Yes|             No|No internet service|No internet service|No internet service|No internet service|No internet service|No internet service|      Two year|              No|        Mailed check|          25.0|      1510.5|   No|\n",
            "|4385-GZQXV|Female|            1|     No|        No|    16|         Yes|              No|    Fiber optic|                 No|                 No|                 No|                Yes|                Yes|                Yes|Month-to-month|             Yes|    Electronic check|         94.45|      1511.2|  Yes|\n",
            "|5356-KZCKT|  Male|            0|     No|        No|    58|         Yes|             Yes|             No|No internet service|No internet service|No internet service|No internet service|No internet service|No internet service|      Two year|             Yes|Credit card (auto...|         24.45|      1513.6|   No|\n",
            "|1852-QSWCD|  Male|            0|    Yes|       Yes|    64|         Yes|             Yes|             No|No internet service|No internet service|No internet service|No internet service|No internet service|No internet service|      Two year|             Yes|        Mailed check|          24.8|     1514.85|   No|\n",
            "|6100-QQHEB|  Male|            0|    Yes|       Yes|    17|         Yes|             Yes|    Fiber optic|                 No|                 No|                 No|                 No|                Yes|                Yes|Month-to-month|             Yes|    Electronic check|         92.55|      1515.1|  Yes|\n",
            "+----------+------+-------------+-------+----------+------+------------+----------------+---------------+-------------------+-------------------+-------------------+-------------------+-------------------+-------------------+--------------+----------------+--------------------+--------------+------------+-----+\n",
            "only showing top 20 rows\n",
            "\n"
          ],
          "name": "stdout"
        }
      ]
    },
    {
      "cell_type": "code",
      "metadata": {
        "colab": {
          "base_uri": "https://localhost:8080/"
        },
        "id": "avEGNUkwg_Ko",
        "outputId": "d7314922-3e12-427a-9a0f-2f48b051418e"
      },
      "source": [
        "df.sort(\"tenure\",\"Gender\").show(truncate=False)\r\n"
      ],
      "execution_count": null,
      "outputs": [
        {
          "output_type": "stream",
          "text": [
            "+----------+------+-------------+-------+----------+------+------------+----------------+---------------+-------------------+-------------------+-------------------+-------------------+-------------------+-------------------+--------------+----------------+-------------------------+--------------+------------+-----+\n",
            "|customerID|gender|SeniorCitizen|Partner|Dependents|tenure|PhoneService|MultipleLines   |InternetService|OnlineSecurity     |OnlineBackup       |DeviceProtection   |TechSupport        |StreamingTV        |StreamingMovies    |Contract      |PaperlessBilling|PaymentMethod            |MonthlyCharges|TotalCharges|Churn|\n",
            "+----------+------+-------------+-------+----------+------+------------+----------------+---------------+-------------------+-------------------+-------------------+-------------------+-------------------+-------------------+--------------+----------------+-------------------------+--------------+------------+-----+\n",
            "|1371-DWPAZ|Female|0            |Yes    |Yes       |0     |No          |No phone service|DSL            |Yes                |Yes                |Yes                |Yes                |Yes                |No                 |Two year      |No              |Credit card (automatic)  |56.05         |            |No   |\n",
            "|4472-LVYGI|Female|0            |Yes    |Yes       |0     |No          |No phone service|DSL            |Yes                |No                 |Yes                |Yes                |Yes                |No                 |Two year      |Yes             |Bank transfer (automatic)|52.55         |            |No   |\n",
            "|2520-SGTTA|Female|0            |Yes    |Yes       |0     |Yes         |No              |No             |No internet service|No internet service|No internet service|No internet service|No internet service|No internet service|Two year      |No              |Mailed check             |20.0          |            |No   |\n",
            "|5709-LVOEQ|Female|0            |Yes    |Yes       |0     |Yes         |No              |DSL            |Yes                |Yes                |Yes                |No                 |Yes                |Yes                |Two year      |No              |Mailed check             |80.85         |            |No   |\n",
            "|4075-WKNIU|Female|0            |Yes    |Yes       |0     |Yes         |Yes             |DSL            |No                 |Yes                |Yes                |Yes                |Yes                |No                 |Two year      |No              |Mailed check             |73.35         |            |No   |\n",
            "|3115-CZMZD|Male  |0            |No     |Yes       |0     |Yes         |No              |No             |No internet service|No internet service|No internet service|No internet service|No internet service|No internet service|Two year      |No              |Mailed check             |20.25         |            |No   |\n",
            "|7644-OMVMY|Male  |0            |Yes    |Yes       |0     |Yes         |No              |No             |No internet service|No internet service|No internet service|No internet service|No internet service|No internet service|Two year      |No              |Mailed check             |19.85         |            |No   |\n",
            "|2775-SEFEE|Male  |0            |No     |Yes       |0     |Yes         |Yes             |DSL            |Yes                |Yes                |No                 |Yes                |No                 |No                 |Two year      |Yes             |Bank transfer (automatic)|61.9          |            |No   |\n",
            "|4367-NUYAO|Male  |0            |Yes    |Yes       |0     |Yes         |Yes             |No             |No internet service|No internet service|No internet service|No internet service|No internet service|No internet service|Two year      |No              |Mailed check             |25.75         |            |No   |\n",
            "|3213-VVOLG|Male  |0            |Yes    |Yes       |0     |Yes         |Yes             |No             |No internet service|No internet service|No internet service|No internet service|No internet service|No internet service|Two year      |No              |Mailed check             |25.35         |            |No   |\n",
            "|2923-ARZLG|Male  |0            |Yes    |Yes       |0     |Yes         |No              |No             |No internet service|No internet service|No internet service|No internet service|No internet service|No internet service|One year      |Yes             |Mailed check             |19.7          |            |No   |\n",
            "|5564-NEMQO|Female|1            |No     |No        |1     |Yes         |No              |Fiber optic    |No                 |No                 |Yes                |No                 |No                 |No                 |Month-to-month|Yes             |Bank transfer (automatic)|75.3          |75.3        |Yes  |\n",
            "|9399-APLBT|Female|0            |Yes    |Yes       |1     |Yes         |No              |Fiber optic    |No                 |Yes                |No                 |No                 |No                 |No                 |Month-to-month|Yes             |Electronic check         |74.7          |74.7        |Yes  |\n",
            "|7590-VHVEG|Female|0            |Yes    |No        |1     |No          |No phone service|DSL            |No                 |Yes                |No                 |No                 |No                 |No                 |Month-to-month|Yes             |Electronic check         |29.85         |29.85       |No   |\n",
            "|0390-DCFDQ|Female|1            |Yes    |No        |1     |Yes         |No              |Fiber optic    |No                 |No                 |No                 |No                 |No                 |No                 |Month-to-month|Yes             |Mailed check             |70.45         |70.45       |Yes  |\n",
            "|1135-LMECX|Female|0            |No     |No        |1     |Yes         |No              |No             |No internet service|No internet service|No internet service|No internet service|No internet service|No internet service|Month-to-month|No              |Mailed check             |19.85         |19.85       |No   |\n",
            "|4110-PFEUZ|Female|0            |No     |No        |1     |Yes         |No              |Fiber optic    |No                 |No                 |No                 |No                 |No                 |No                 |Month-to-month|No              |Mailed check             |69.55         |69.55       |Yes  |\n",
            "|1024-GUALD|Female|0            |Yes    |No        |1     |No          |No phone service|DSL            |No                 |No                 |No                 |No                 |No                 |No                 |Month-to-month|Yes             |Electronic check         |24.8          |24.8        |Yes  |\n",
            "|2080-SRCDE|Female|0            |No     |Yes       |1     |Yes         |Yes             |No             |No internet service|No internet service|No internet service|No internet service|No internet service|No internet service|Month-to-month|No              |Mailed check             |25.4          |25.4        |No   |\n",
            "|6317-YPKDH|Female|0            |No     |No        |1     |No          |No phone service|DSL            |No                 |Yes                |No                 |No                 |No                 |No                 |Month-to-month|No              |Bank transfer (automatic)|29.95         |29.95       |Yes  |\n",
            "+----------+------+-------------+-------+----------+------+------------+----------------+---------------+-------------------+-------------------+-------------------+-------------------+-------------------+-------------------+--------------+----------------+-------------------------+--------------+------------+-----+\n",
            "only showing top 20 rows\n",
            "\n"
          ],
          "name": "stdout"
        }
      ]
    },
    {
      "cell_type": "markdown",
      "metadata": {
        "id": "lrhVYik4Wjj0"
      },
      "source": [
        "**d) orderBy: displaying our dataset in descending order of the monthlycharges column**"
      ]
    },
    {
      "cell_type": "code",
      "metadata": {
        "colab": {
          "base_uri": "https://localhost:8080/"
        },
        "id": "rsSm3EPMWnoh",
        "outputId": "dc4806d9-baee-462c-9055-0555e255c72c"
      },
      "source": [
        "df.filter(\"PaymentMethod='Electronic check' and contract='One year'\").orderBy(col(\"MonthlyCharges\"), ascending=False).show()"
      ],
      "execution_count": null,
      "outputs": [
        {
          "output_type": "stream",
          "text": [
            "+----------+------+-------------+-------+----------+------+------------+-------------+---------------+--------------+------------+----------------+-----------+-----------+---------------+--------+----------------+----------------+--------------+------------+-----+\n",
            "|customerID|gender|SeniorCitizen|Partner|Dependents|tenure|PhoneService|MultipleLines|InternetService|OnlineSecurity|OnlineBackup|DeviceProtection|TechSupport|StreamingTV|StreamingMovies|Contract|PaperlessBilling|   PaymentMethod|MonthlyCharges|TotalCharges|Churn|\n",
            "+----------+------+-------------+-------+----------+------+------------+-------------+---------------+--------------+------------+----------------+-----------+-----------+---------------+--------+----------------+----------------+--------------+------------+-----+\n",
            "|5734-EJKXG|Female|            0|     No|        No|    61|         Yes|          Yes|    Fiber optic|           Yes|         Yes|             Yes|        Yes|        Yes|            Yes|One year|             Yes|Electronic check|         118.6|      7365.7|   No|\n",
            "|4868-AADLV|  Male|            1|    Yes|       Yes|    66|         Yes|          Yes|    Fiber optic|           Yes|         Yes|             Yes|        Yes|        Yes|            Yes|One year|             Yes|Electronic check|        116.25|     7862.25|   No|\n",
            "|1229-RCALF|Female|            0|    Yes|        No|    64|         Yes|          Yes|    Fiber optic|           Yes|         Yes|             Yes|        Yes|        Yes|            Yes|One year|             Yes|Electronic check|         115.0|     7396.15|   No|\n",
            "|0864-FVJNJ|Female|            0|    Yes|       Yes|    64|         Yes|          Yes|    Fiber optic|           Yes|         Yes|             Yes|        Yes|        Yes|            Yes|One year|              No|Electronic check|        113.35|     7222.75|   No|\n",
            "|2403-BCASL|  Male|            1|    Yes|       Yes|    41|         Yes|          Yes|    Fiber optic|            No|         Yes|             Yes|        Yes|        Yes|            Yes|One year|             Yes|Electronic check|        111.95|      4534.9|  Yes|\n",
            "|6664-FPDAC|Female|            1|     No|        No|    56|         Yes|          Yes|    Fiber optic|            No|         Yes|             Yes|        Yes|        Yes|            Yes|One year|             Yes|Electronic check|        111.95|      6418.9|  Yes|\n",
            "|3584-WKTTW|  Male|            0|    Yes|        No|    51|         Yes|          Yes|    Fiber optic|           Yes|          No|             Yes|        Yes|        Yes|            Yes|One year|             Yes|Electronic check|        111.55|     5720.35|   No|\n",
            "|7245-JMTTQ|Female|            0|     No|        No|    51|         Yes|          Yes|    Fiber optic|            No|         Yes|             Yes|        Yes|        Yes|            Yes|One year|             Yes|Electronic check|         111.5|     5703.25|   No|\n",
            "|1135-HIORI|Female|            0|    Yes|       Yes|    64|         Yes|          Yes|    Fiber optic|            No|         Yes|             Yes|        Yes|        Yes|            Yes|One year|             Yes|Electronic check|        111.45|     7266.95|   No|\n",
            "|2659-VXMWZ|  Male|            0|    Yes|       Yes|    67|         Yes|          Yes|    Fiber optic|           Yes|         Yes|             Yes|         No|        Yes|            Yes|One year|             Yes|Electronic check|         111.3|      7482.1|  Yes|\n",
            "|3199-NPKCN|Female|            0|    Yes|        No|    67|         Yes|          Yes|    Fiber optic|           Yes|          No|             Yes|        Yes|        Yes|            Yes|One year|             Yes|Electronic check|        111.25|     7511.65|   No|\n",
            "|9835-ZIITK|  Male|            1|    Yes|        No|    66|         Yes|          Yes|    Fiber optic|            No|         Yes|             Yes|        Yes|        Yes|            Yes|One year|             Yes|Electronic check|        110.85|     7491.75|  Yes|\n",
            "|2272-JKMSI|Female|            0|    Yes|       Yes|    62|         Yes|          Yes|    Fiber optic|            No|         Yes|             Yes|        Yes|        Yes|            Yes|One year|             Yes|Electronic check|         110.8|     6840.95|   No|\n",
            "|9356-AXGMP|  Male|            0|    Yes|        No|    38|         Yes|          Yes|    Fiber optic|           Yes|          No|             Yes|        Yes|        Yes|            Yes|One year|             Yes|Electronic check|         110.7|      4428.6|   No|\n",
            "|2673-CXQEU|Female|            1|     No|        No|    56|         Yes|          Yes|    Fiber optic|           Yes|         Yes|             Yes|         No|        Yes|            Yes|One year|              No|Electronic check|         110.5|      6139.5|   No|\n",
            "|8008-ESFLK|Female|            0|    Yes|        No|    53|         Yes|           No|    Fiber optic|           Yes|         Yes|             Yes|        Yes|        Yes|            Yes|One year|              No|Electronic check|         110.5|      5835.5|   No|\n",
            "|3870-MQAMG|Female|            0|    Yes|        No|    54|         Yes|          Yes|    Fiber optic|            No|         Yes|             Yes|        Yes|        Yes|            Yes|One year|              No|Electronic check|        110.35|     5893.15|  Yes|\n",
            "|2408-TZMJL|  Male|            0|    Yes|        No|    59|         Yes|          Yes|    Fiber optic|           Yes|         Yes|             Yes|         No|        Yes|            Yes|One year|             Yes|Electronic check|        110.15|     6448.05|  Yes|\n",
            "|0691-IFBQW|Female|            1|     No|        No|    46|         Yes|          Yes|    Fiber optic|           Yes|         Yes|             Yes|         No|        Yes|            Yes|One year|             Yes|Electronic check|         110.0|      4874.8|  Yes|\n",
            "|5945-AZYHT|  Male|            0|    Yes|        No|    71|         Yes|          Yes|    Fiber optic|           Yes|         Yes|             Yes|         No|        Yes|            Yes|One year|             Yes|Electronic check|         109.6|     7854.15|   No|\n",
            "+----------+------+-------------+-------+----------+------+------------+-------------+---------------+--------------+------------+----------------+-----------+-----------+---------------+--------+----------------+----------------+--------------+------------+-----+\n",
            "only showing top 20 rows\n",
            "\n"
          ],
          "name": "stdout"
        }
      ]
    },
    {
      "cell_type": "markdown",
      "metadata": {
        "id": "H6VEECmkhfuQ"
      },
      "source": [
        "**e) sortwithpartitions: in this case the output will be sorted by both multiplelines and dependents**"
      ]
    },
    {
      "cell_type": "code",
      "metadata": {
        "colab": {
          "base_uri": "https://localhost:8080/"
        },
        "id": "XBZR_zaCestT",
        "outputId": "19569f6b-863c-48b8-e4e5-0b00883312bb"
      },
      "source": [
        "df.filter(\"gender='Female'\").sortWithinPartitions([col(\"MultipleLines\"),col(\"Dependents\")], ascending=False).show()"
      ],
      "execution_count": null,
      "outputs": [
        {
          "output_type": "stream",
          "text": [
            "+----------+------+-------------+-------+----------+------+------------+-------------+---------------+-------------------+-------------------+-------------------+-------------------+-------------------+-------------------+--------------+----------------+--------------------+--------------+------------+-----+\n",
            "|customerID|gender|SeniorCitizen|Partner|Dependents|tenure|PhoneService|MultipleLines|InternetService|     OnlineSecurity|       OnlineBackup|   DeviceProtection|        TechSupport|        StreamingTV|    StreamingMovies|      Contract|PaperlessBilling|       PaymentMethod|MonthlyCharges|TotalCharges|Churn|\n",
            "+----------+------+-------------+-------+----------+------+------------+-------------+---------------+-------------------+-------------------+-------------------+-------------------+-------------------+-------------------+--------------+----------------+--------------------+--------------+------------+-----+\n",
            "|3655-SNQYZ|Female|            0|    Yes|       Yes|    69|         Yes|          Yes|    Fiber optic|                Yes|                Yes|                Yes|                Yes|                Yes|                Yes|      Two year|              No|Credit card (auto...|        113.25|     7895.15|   No|\n",
            "|6234-RAAPL|Female|            0|    Yes|       Yes|    72|         Yes|          Yes|    Fiber optic|                Yes|                Yes|                 No|                Yes|                Yes|                 No|      Two year|              No|Bank transfer (au...|          99.9|      7251.7|   No|\n",
            "|9489-DEDVP|Female|            0|    Yes|       Yes|    70|         Yes|          Yes|            DSL|                Yes|                Yes|                 No|                 No|                Yes|                 No|      Two year|             Yes|Credit card (auto...|          69.2|     4872.35|   No|\n",
            "|2954-PIBKO|Female|            0|    Yes|       Yes|    69|         Yes|          Yes|            DSL|                Yes|                 No|                Yes|                Yes|                 No|                 No|      Two year|             Yes|Credit card (auto...|         64.15|      4254.1|   No|\n",
            "|8769-KKTPH|Female|            0|    Yes|       Yes|    63|         Yes|          Yes|    Fiber optic|                Yes|                 No|                 No|                 No|                Yes|                Yes|      One year|             Yes|Credit card (auto...|         99.65|      6311.2|   No|\n",
            "|3957-SQXML|Female|            0|    Yes|       Yes|    34|         Yes|          Yes|             No|No internet service|No internet service|No internet service|No internet service|No internet service|No internet service|      Two year|              No|Credit card (auto...|         24.95|       894.3|   No|\n",
            "|3887-PBQAO|Female|            0|    Yes|       Yes|    45|         Yes|          Yes|             No|No internet service|No internet service|No internet service|No internet service|No internet service|No internet service|      One year|             Yes|Credit card (auto...|          25.9|      1216.6|   No|\n",
            "|6728-DKUCO|Female|            0|    Yes|       Yes|    72|         Yes|          Yes|    Fiber optic|                Yes|                Yes|                 No|                 No|                Yes|                Yes|      One year|             Yes|    Electronic check|        104.15|     7303.05|   No|\n",
            "|5299-RULOA|Female|            0|    Yes|       Yes|    10|         Yes|          Yes|    Fiber optic|                Yes|                 No|                 No|                 No|                Yes|                Yes|Month-to-month|             Yes|    Electronic check|        100.25|     1064.65|  Yes|\n",
            "|1091-SOZGA|Female|            0|    Yes|       Yes|    56|         Yes|          Yes|    Fiber optic|                 No|                 No|                Yes|                 No|                Yes|                Yes|      One year|             Yes|Credit card (auto...|          99.8|     5515.45|   No|\n",
            "|3146-MSEGF|Female|            1|    Yes|       Yes|    72|         Yes|          Yes|            DSL|                Yes|                Yes|                Yes|                Yes|                Yes|                Yes|      Two year|             Yes|Credit card (auto...|         88.05|     6425.65|   No|\n",
            "|5716-EZXZN|Female|            0|    Yes|       Yes|    65|         Yes|          Yes|    Fiber optic|                Yes|                Yes|                 No|                Yes|                Yes|                 No|      Two year|             Yes|Credit card (auto...|         99.05|      6416.7|   No|\n",
            "|1679-JRFBR|Female|            0|    Yes|       Yes|    70|         Yes|          Yes|    Fiber optic|                Yes|                Yes|                Yes|                 No|                Yes|                Yes|      One year|             Yes|Credit card (auto...|        108.15|     7930.55|   No|\n",
            "|5947-SGKCL|Female|            0|    Yes|       Yes|    15|         Yes|          Yes|    Fiber optic|                 No|                Yes|                Yes|                 No|                Yes|                Yes|Month-to-month|             Yes|Bank transfer (au...|        105.35|     1559.25|   No|\n",
            "|9680-NIAUV|Female|            0|    Yes|       Yes|    72|         Yes|          Yes|    Fiber optic|                Yes|                Yes|                Yes|                 No|                Yes|                Yes|      Two year|              No|Credit card (auto...|         109.7|      8129.3|   No|\n",
            "|0945-TSONX|Female|            0|    Yes|       Yes|    47|         Yes|          Yes|            DSL|                Yes|                Yes|                 No|                Yes|                Yes|                Yes|      Two year|             Yes|Credit card (auto...|          85.3|     4107.25|   No|\n",
            "|7017-VFHAY|Female|            0|    Yes|       Yes|    61|         Yes|          Yes|    Fiber optic|                Yes|                Yes|                Yes|                Yes|                Yes|                Yes|      Two year|              No|Credit card (auto...|         115.1|     7008.15|   No|\n",
            "|0123-CRBRT|Female|            0|    Yes|       Yes|    61|         Yes|          Yes|            DSL|                Yes|                Yes|                Yes|                Yes|                Yes|                Yes|      Two year|              No|        Mailed check|          88.1|     5526.75|   No|\n",
            "|2080-SRCDE|Female|            0|     No|       Yes|     1|         Yes|          Yes|             No|No internet service|No internet service|No internet service|No internet service|No internet service|No internet service|Month-to-month|              No|        Mailed check|          25.4|        25.4|   No|\n",
            "|7520-HQWJU|Female|            0|    Yes|       Yes|    66|         Yes|          Yes|            DSL|                Yes|                Yes|                Yes|                 No|                 No|                 No|Month-to-month|             Yes|Bank transfer (au...|         67.45|     4508.65|   No|\n",
            "+----------+------+-------------+-------+----------+------+------------+-------------+---------------+-------------------+-------------------+-------------------+-------------------+-------------------+-------------------+--------------+----------------+--------------------+--------------+------------+-----+\n",
            "only showing top 20 rows\n",
            "\n"
          ],
          "name": "stdout"
        }
      ]
    },
    {
      "cell_type": "markdown",
      "metadata": {
        "id": "Y8_6HH8wULAD"
      },
      "source": [
        "**f) Map and FlatMap**flatmap splits each record by space in an RDD and finally flattens it. Resulting RDD consists of a single word on each record.The map function iterates over every line in RDD and split into new RDD. Using map() transformation we take in any function, and that function is applied to every element of RDD."
      ]
    },
    {
      "cell_type": "code",
      "metadata": {
        "colab": {
          "base_uri": "https://localhost:8080/"
        },
        "id": "u12-_F6IqdVw",
        "outputId": "e9d8f380-7a0f-4b7e-d0cf-7df56c2c24d3"
      },
      "source": [
        "df.rdd.map(lambda line: line.StreamingTV  .split(\" \")).take(50)"
      ],
      "execution_count": null,
      "outputs": [
        {
          "output_type": "execute_result",
          "data": {
            "text/plain": [
              "[['No'],\n",
              " ['No'],\n",
              " ['No'],\n",
              " ['No'],\n",
              " ['No'],\n",
              " ['Yes'],\n",
              " ['Yes'],\n",
              " ['No'],\n",
              " ['Yes'],\n",
              " ['No'],\n",
              " ['No'],\n",
              " ['No', 'internet', 'service'],\n",
              " ['Yes'],\n",
              " ['Yes'],\n",
              " ['Yes'],\n",
              " ['Yes'],\n",
              " ['No', 'internet', 'service'],\n",
              " ['Yes'],\n",
              " ['No'],\n",
              " ['No'],\n",
              " ['No'],\n",
              " ['No', 'internet', 'service'],\n",
              " ['No', 'internet', 'service'],\n",
              " ['No'],\n",
              " ['No'],\n",
              " ['No'],\n",
              " ['Yes'],\n",
              " ['No'],\n",
              " ['Yes'],\n",
              " ['Yes'],\n",
              " ['No'],\n",
              " ['Yes'],\n",
              " ['No'],\n",
              " ['No', 'internet', 'service'],\n",
              " ['No'],\n",
              " ['Yes'],\n",
              " ['No'],\n",
              " ['No'],\n",
              " ['Yes'],\n",
              " ['Yes'],\n",
              " ['No'],\n",
              " ['Yes'],\n",
              " ['No', 'internet', 'service'],\n",
              " ['Yes'],\n",
              " ['Yes'],\n",
              " ['No'],\n",
              " ['No'],\n",
              " ['Yes'],\n",
              " ['Yes'],\n",
              " ['No']]"
            ]
          },
          "metadata": {
            "tags": []
          },
          "execution_count": 42
        }
      ]
    },
    {
      "cell_type": "code",
      "metadata": {
        "colab": {
          "base_uri": "https://localhost:8080/"
        },
        "id": "y4vO35WFb8ls",
        "outputId": "68f5ee85-66fb-4a66-8c50-efbf03abb781"
      },
      "source": [
        "df.rdd.flatMap(lambda line: line.StreamingTV  .split(\" \")).take(50)"
      ],
      "execution_count": null,
      "outputs": [
        {
          "output_type": "execute_result",
          "data": {
            "text/plain": [
              "['No',\n",
              " 'No',\n",
              " 'No',\n",
              " 'No',\n",
              " 'No',\n",
              " 'Yes',\n",
              " 'Yes',\n",
              " 'No',\n",
              " 'Yes',\n",
              " 'No',\n",
              " 'No',\n",
              " 'No',\n",
              " 'internet',\n",
              " 'service',\n",
              " 'Yes',\n",
              " 'Yes',\n",
              " 'Yes',\n",
              " 'Yes',\n",
              " 'No',\n",
              " 'internet',\n",
              " 'service',\n",
              " 'Yes',\n",
              " 'No',\n",
              " 'No',\n",
              " 'No',\n",
              " 'No',\n",
              " 'internet',\n",
              " 'service',\n",
              " 'No',\n",
              " 'internet',\n",
              " 'service',\n",
              " 'No',\n",
              " 'No',\n",
              " 'No',\n",
              " 'Yes',\n",
              " 'No',\n",
              " 'Yes',\n",
              " 'Yes',\n",
              " 'No',\n",
              " 'Yes',\n",
              " 'No',\n",
              " 'No',\n",
              " 'internet',\n",
              " 'service',\n",
              " 'No',\n",
              " 'Yes',\n",
              " 'No',\n",
              " 'No',\n",
              " 'Yes',\n",
              " 'Yes']"
            ]
          },
          "metadata": {
            "tags": []
          },
          "execution_count": 31
        }
      ]
    },
    {
      "cell_type": "code",
      "metadata": {
        "id": "Bsp0rfJMhzrX"
      },
      "source": [
        "df.printSchema()"
      ],
      "execution_count": null,
      "outputs": []
    },
    {
      "cell_type": "markdown",
      "metadata": {
        "id": "eGJtSUmS4Cug"
      },
      "source": [
        "**e) Startswith: Using Startswith to show records that start with F from the internetservice column**"
      ]
    },
    {
      "cell_type": "code",
      "metadata": {
        "colab": {
          "base_uri": "https://localhost:8080/"
        },
        "id": "MNSRwlCD_y6l",
        "outputId": "526b733b-b91d-4ded-dee0-61628dcd746e"
      },
      "source": [
        "from pyspark.sql.functions import col\r\n",
        "new_df=df.filter(col(\"InternetService\").startswith(\"F\")).show()"
      ],
      "execution_count": null,
      "outputs": [
        {
          "output_type": "stream",
          "text": [
            "+----------+------+-------------+-------+----------+------+------------+-------------+---------------+--------------+------------+----------------+-----------+-----------+---------------+--------------+----------------+--------------------+--------------+------------+-----+\n",
            "|customerID|gender|SeniorCitizen|Partner|Dependents|tenure|PhoneService|MultipleLines|InternetService|OnlineSecurity|OnlineBackup|DeviceProtection|TechSupport|StreamingTV|StreamingMovies|      Contract|PaperlessBilling|       PaymentMethod|MonthlyCharges|TotalCharges|Churn|\n",
            "+----------+------+-------------+-------+----------+------+------------+-------------+---------------+--------------+------------+----------------+-----------+-----------+---------------+--------------+----------------+--------------------+--------------+------------+-----+\n",
            "|9237-HQITU|Female|            0|     No|        No|     2|         Yes|           No|    Fiber optic|            No|          No|              No|         No|         No|             No|Month-to-month|             Yes|    Electronic check|          70.7|      151.65|  Yes|\n",
            "|9305-CDSKC|Female|            0|     No|        No|     8|         Yes|          Yes|    Fiber optic|            No|          No|             Yes|         No|        Yes|            Yes|Month-to-month|             Yes|    Electronic check|         99.65|       820.5|  Yes|\n",
            "|1452-KIOVK|  Male|            0|     No|       Yes|    22|         Yes|          Yes|    Fiber optic|            No|         Yes|              No|         No|        Yes|             No|Month-to-month|             Yes|Credit card (auto...|          89.1|      1949.4|   No|\n",
            "|7892-POOKP|Female|            0|    Yes|        No|    28|         Yes|          Yes|    Fiber optic|            No|          No|             Yes|        Yes|        Yes|            Yes|Month-to-month|             Yes|    Electronic check|         104.8|     3046.05|  Yes|\n",
            "|8091-TTVAX|  Male|            0|    Yes|        No|    58|         Yes|          Yes|    Fiber optic|            No|          No|             Yes|         No|        Yes|            Yes|      One year|              No|Credit card (auto...|        100.35|      5681.1|   No|\n",
            "|0280-XJGEX|  Male|            0|     No|        No|    49|         Yes|          Yes|    Fiber optic|            No|         Yes|             Yes|         No|        Yes|            Yes|Month-to-month|             Yes|Bank transfer (au...|         103.7|      5036.3|  Yes|\n",
            "|5129-JLPIS|  Male|            0|     No|        No|    25|         Yes|           No|    Fiber optic|           Yes|          No|             Yes|        Yes|        Yes|            Yes|Month-to-month|             Yes|    Electronic check|         105.5|     2686.05|   No|\n",
            "|3655-SNQYZ|Female|            0|    Yes|       Yes|    69|         Yes|          Yes|    Fiber optic|           Yes|         Yes|             Yes|        Yes|        Yes|            Yes|      Two year|              No|Credit card (auto...|        113.25|     7895.15|   No|\n",
            "|9959-WOFKT|  Male|            0|     No|       Yes|    71|         Yes|          Yes|    Fiber optic|           Yes|          No|             Yes|         No|        Yes|            Yes|      Two year|              No|Bank transfer (au...|         106.7|     7382.25|   No|\n",
            "|4183-MYFRB|Female|            0|     No|        No|    21|         Yes|           No|    Fiber optic|            No|         Yes|             Yes|         No|         No|            Yes|Month-to-month|             Yes|    Electronic check|         90.05|      1862.9|   No|\n",
            "|6467-CHFZW|  Male|            0|    Yes|       Yes|    47|         Yes|          Yes|    Fiber optic|            No|         Yes|              No|         No|        Yes|            Yes|Month-to-month|             Yes|    Electronic check|         99.35|     4749.15|  Yes|\n",
            "|3841-NFECX|Female|            1|    Yes|        No|    71|         Yes|          Yes|    Fiber optic|           Yes|         Yes|             Yes|        Yes|         No|             No|      Two year|             Yes|Credit card (auto...|         96.35|     6766.95|   No|\n",
            "|4929-XIHVW|  Male|            1|    Yes|        No|     2|         Yes|           No|    Fiber optic|            No|          No|             Yes|         No|        Yes|            Yes|Month-to-month|             Yes|Credit card (auto...|          95.5|      181.65|   No|\n",
            "|6234-RAAPL|Female|            0|    Yes|       Yes|    72|         Yes|          Yes|    Fiber optic|           Yes|         Yes|              No|        Yes|        Yes|             No|      Two year|              No|Bank transfer (au...|          99.9|      7251.7|   No|\n",
            "|6047-YHPVI|  Male|            0|     No|        No|     5|         Yes|           No|    Fiber optic|            No|          No|              No|         No|         No|             No|Month-to-month|             Yes|    Electronic check|          69.7|       316.9|  Yes|\n",
            "|6572-ADKRS|Female|            0|     No|        No|    46|         Yes|           No|    Fiber optic|            No|          No|             Yes|         No|         No|             No|Month-to-month|             Yes|Credit card (auto...|          74.8|      3548.3|   No|\n",
            "|5380-WJKOV|  Male|            0|     No|        No|    34|         Yes|          Yes|    Fiber optic|            No|         Yes|             Yes|         No|        Yes|            Yes|Month-to-month|             Yes|    Electronic check|        106.35|     3549.25|  Yes|\n",
            "|8168-UQWWF|Female|            0|     No|        No|    11|         Yes|          Yes|    Fiber optic|            No|          No|             Yes|         No|        Yes|            Yes|Month-to-month|             Yes|Bank transfer (au...|         97.85|      1105.4|  Yes|\n",
            "|3714-NTNFO|Female|            0|     No|        No|    49|         Yes|          Yes|    Fiber optic|            No|          No|              No|         No|         No|            Yes|Month-to-month|             Yes|    Electronic check|          84.5|      3906.7|   No|\n",
            "|7760-OYPDY|Female|            0|     No|        No|     2|         Yes|           No|    Fiber optic|            No|          No|              No|         No|        Yes|             No|Month-to-month|             Yes|    Electronic check|         80.65|      144.15|  Yes|\n",
            "+----------+------+-------------+-------+----------+------+------------+-------------+---------------+--------------+------------+----------------+-----------+-----------+---------------+--------------+----------------+--------------------+--------------+------------+-----+\n",
            "only showing top 20 rows\n",
            "\n"
          ],
          "name": "stdout"
        }
      ]
    },
    {
      "cell_type": "markdown",
      "metadata": {
        "id": "gyAVF0AcXjvL"
      },
      "source": [
        "**f) groupby: Here, we are doing a groupBy on the Paymentmethod column and then finding the sum of Tenure for each paymentMethod using sum function**"
      ]
    },
    {
      "cell_type": "code",
      "metadata": {
        "colab": {
          "base_uri": "https://localhost:8080/"
        },
        "id": "kMuGoipGDCWL",
        "outputId": "38f72c26-db4f-4c89-f7a4-043ae4265e5a"
      },
      "source": [
        "df.groupBy(\"PaymentMethod\").sum(\"Tenure\").show(truncate=False)"
      ],
      "execution_count": null,
      "outputs": [
        {
          "output_type": "stream",
          "text": [
            "+-------------------------+-----------+\n",
            "|PaymentMethod            |sum(Tenure)|\n",
            "+-------------------------+-----------+\n",
            "|Credit card (automatic)  |65856      |\n",
            "|Mailed check             |35190      |\n",
            "|Bank transfer (automatic)|67406      |\n",
            "|Electronic check         |59538      |\n",
            "+-------------------------+-----------+\n",
            "\n"
          ],
          "name": "stdout"
        }
      ]
    },
    {
      "cell_type": "markdown",
      "metadata": {
        "id": "zisW5io-YACt"
      },
      "source": [
        "**2 Spark Actions**"
      ]
    },
    {
      "cell_type": "markdown",
      "metadata": {
        "id": "swRD3Zi845rD"
      },
      "source": [
        "**g) First: returning the top records of our df**"
      ]
    },
    {
      "cell_type": "code",
      "metadata": {
        "colab": {
          "base_uri": "https://localhost:8080/"
        },
        "id": "eecZLDhZUDkS",
        "outputId": "712bbb79-5b14-4cb2-89c5-2197b7d213b8"
      },
      "source": [
        "df.first()"
      ],
      "execution_count": null,
      "outputs": [
        {
          "output_type": "execute_result",
          "data": {
            "text/plain": [
              "Row(customerID='7590-VHVEG', gender='Female', SeniorCitizen=0, Partner='Yes', Dependents='No', tenure=1, PhoneService='No', MultipleLines='No phone service', InternetService='DSL', OnlineSecurity='No', OnlineBackup='Yes', DeviceProtection='No', TechSupport='No', StreamingTV='No', StreamingMovies='No', Contract='Month-to-month', PaperlessBilling='Yes', PaymentMethod='Electronic check', MonthlyCharges=29.85, TotalCharges='29.85', Churn='No')"
            ]
          },
          "metadata": {
            "tags": []
          },
          "execution_count": 20
        }
      ]
    },
    {
      "cell_type": "markdown",
      "metadata": {
        "id": "ZKtLZ1UCMcRr"
      },
      "source": [
        "a. **Collect:This task helps us present the PaymentMethod column's elements as an array to the drivernode**"
      ]
    },
    {
      "cell_type": "code",
      "metadata": {
        "colab": {
          "base_uri": "https://localhost:8080/"
        },
        "id": "IKNQTrANU3Nd",
        "outputId": "378a66a7-c477-469c-a982-2b05b9d9f066"
      },
      "source": [
        "df.select('PaymentMethod').collect()"
      ],
      "execution_count": null,
      "outputs": [
        {
          "output_type": "execute_result",
          "data": {
            "text/plain": [
              "[Row(PaymentMethod='Electronic check'),\n",
              " Row(PaymentMethod='Mailed check'),\n",
              " Row(PaymentMethod='Mailed check'),\n",
              " Row(PaymentMethod='Bank transfer (automatic)'),\n",
              " Row(PaymentMethod='Electronic check'),\n",
              " Row(PaymentMethod='Electronic check'),\n",
              " Row(PaymentMethod='Credit card (automatic)'),\n",
              " Row(PaymentMethod='Mailed check'),\n",
              " Row(PaymentMethod='Electronic check'),\n",
              " Row(PaymentMethod='Bank transfer (automatic)'),\n",
              " Row(PaymentMethod='Mailed check'),\n",
              " Row(PaymentMethod='Credit card (automatic)'),\n",
              " Row(PaymentMethod='Credit card (automatic)'),\n",
              " Row(PaymentMethod='Bank transfer (automatic)'),\n",
              " Row(PaymentMethod='Electronic check'),\n",
              " Row(PaymentMethod='Credit card (automatic)'),\n",
              " Row(PaymentMethod='Mailed check'),\n",
              " Row(PaymentMethod='Bank transfer (automatic)'),\n",
              " Row(PaymentMethod='Credit card (automatic)'),\n",
              " Row(PaymentMethod='Electronic check'),\n",
              " Row(PaymentMethod='Electronic check'),\n",
              " Row(PaymentMethod='Bank transfer (automatic)'),\n",
              " Row(PaymentMethod='Mailed check'),\n",
              " Row(PaymentMethod='Credit card (automatic)'),\n",
              " Row(PaymentMethod='Credit card (automatic)'),\n",
              " Row(PaymentMethod='Bank transfer (automatic)'),\n",
              " Row(PaymentMethod='Electronic check'),\n",
              " Row(PaymentMethod='Electronic check'),\n",
              " Row(PaymentMethod='Credit card (automatic)'),\n",
              " Row(PaymentMethod='Mailed check'),\n",
              " Row(PaymentMethod='Credit card (automatic)'),\n",
              " Row(PaymentMethod='Credit card (automatic)'),\n",
              " Row(PaymentMethod='Mailed check'),\n",
              " Row(PaymentMethod='Bank transfer (automatic)'),\n",
              " Row(PaymentMethod='Bank transfer (automatic)'),\n",
              " Row(PaymentMethod='Bank transfer (automatic)'),\n",
              " Row(PaymentMethod='Electronic check'),\n",
              " Row(PaymentMethod='Credit card (automatic)'),\n",
              " Row(PaymentMethod='Electronic check'),\n",
              " Row(PaymentMethod='Bank transfer (automatic)'),\n",
              " Row(PaymentMethod='Mailed check'),\n",
              " Row(PaymentMethod='Credit card (automatic)'),\n",
              " Row(PaymentMethod='Mailed check'),\n",
              " Row(PaymentMethod='Credit card (automatic)'),\n",
              " Row(PaymentMethod='Electronic check'),\n",
              " Row(PaymentMethod='Electronic check'),\n",
              " Row(PaymentMethod='Mailed check'),\n",
              " Row(PaymentMethod='Electronic check'),\n",
              " Row(PaymentMethod='Credit card (automatic)'),\n",
              " Row(PaymentMethod='Credit card (automatic)'),\n",
              " Row(PaymentMethod='Electronic check'),\n",
              " Row(PaymentMethod='Credit card (automatic)'),\n",
              " Row(PaymentMethod='Credit card (automatic)'),\n",
              " Row(PaymentMethod='Credit card (automatic)'),\n",
              " Row(PaymentMethod='Credit card (automatic)'),\n",
              " Row(PaymentMethod='Electronic check'),\n",
              " Row(PaymentMethod='Credit card (automatic)'),\n",
              " Row(PaymentMethod='Electronic check'),\n",
              " Row(PaymentMethod='Credit card (automatic)'),\n",
              " Row(PaymentMethod='Credit card (automatic)'),\n",
              " Row(PaymentMethod='Electronic check'),\n",
              " Row(PaymentMethod='Bank transfer (automatic)'),\n",
              " Row(PaymentMethod='Bank transfer (automatic)'),\n",
              " Row(PaymentMethod='Credit card (automatic)'),\n",
              " Row(PaymentMethod='Electronic check'),\n",
              " Row(PaymentMethod='Electronic check'),\n",
              " Row(PaymentMethod='Electronic check'),\n",
              " Row(PaymentMethod='Mailed check'),\n",
              " Row(PaymentMethod='Bank transfer (automatic)'),\n",
              " Row(PaymentMethod='Mailed check'),\n",
              " Row(PaymentMethod='Mailed check'),\n",
              " Row(PaymentMethod='Electronic check'),\n",
              " Row(PaymentMethod='Bank transfer (automatic)'),\n",
              " Row(PaymentMethod='Bank transfer (automatic)'),\n",
              " Row(PaymentMethod='Bank transfer (automatic)'),\n",
              " Row(PaymentMethod='Electronic check'),\n",
              " Row(PaymentMethod='Credit card (automatic)'),\n",
              " Row(PaymentMethod='Mailed check'),\n",
              " Row(PaymentMethod='Electronic check'),\n",
              " Row(PaymentMethod='Credit card (automatic)'),\n",
              " Row(PaymentMethod='Electronic check'),\n",
              " Row(PaymentMethod='Electronic check'),\n",
              " Row(PaymentMethod='Bank transfer (automatic)'),\n",
              " Row(PaymentMethod='Bank transfer (automatic)'),\n",
              " Row(PaymentMethod='Bank transfer (automatic)'),\n",
              " Row(PaymentMethod='Credit card (automatic)'),\n",
              " Row(PaymentMethod='Bank transfer (automatic)'),\n",
              " Row(PaymentMethod='Bank transfer (automatic)'),\n",
              " Row(PaymentMethod='Mailed check'),\n",
              " Row(PaymentMethod='Mailed check'),\n",
              " Row(PaymentMethod='Bank transfer (automatic)'),\n",
              " Row(PaymentMethod='Electronic check'),\n",
              " Row(PaymentMethod='Mailed check'),\n",
              " Row(PaymentMethod='Credit card (automatic)'),\n",
              " Row(PaymentMethod='Bank transfer (automatic)'),\n",
              " Row(PaymentMethod='Electronic check'),\n",
              " Row(PaymentMethod='Credit card (automatic)'),\n",
              " Row(PaymentMethod='Mailed check'),\n",
              " Row(PaymentMethod='Bank transfer (automatic)'),\n",
              " Row(PaymentMethod='Electronic check'),\n",
              " Row(PaymentMethod='Mailed check'),\n",
              " Row(PaymentMethod='Electronic check'),\n",
              " Row(PaymentMethod='Bank transfer (automatic)'),\n",
              " Row(PaymentMethod='Bank transfer (automatic)'),\n",
              " Row(PaymentMethod='Bank transfer (automatic)'),\n",
              " Row(PaymentMethod='Mailed check'),\n",
              " Row(PaymentMethod='Electronic check'),\n",
              " Row(PaymentMethod='Mailed check'),\n",
              " Row(PaymentMethod='Mailed check'),\n",
              " Row(PaymentMethod='Credit card (automatic)'),\n",
              " Row(PaymentMethod='Electronic check'),\n",
              " Row(PaymentMethod='Credit card (automatic)'),\n",
              " Row(PaymentMethod='Electronic check'),\n",
              " Row(PaymentMethod='Electronic check'),\n",
              " Row(PaymentMethod='Electronic check'),\n",
              " Row(PaymentMethod='Electronic check'),\n",
              " Row(PaymentMethod='Bank transfer (automatic)'),\n",
              " Row(PaymentMethod='Electronic check'),\n",
              " Row(PaymentMethod='Mailed check'),\n",
              " Row(PaymentMethod='Credit card (automatic)'),\n",
              " Row(PaymentMethod='Credit card (automatic)'),\n",
              " Row(PaymentMethod='Mailed check'),\n",
              " Row(PaymentMethod='Electronic check'),\n",
              " Row(PaymentMethod='Mailed check'),\n",
              " Row(PaymentMethod='Mailed check'),\n",
              " Row(PaymentMethod='Electronic check'),\n",
              " Row(PaymentMethod='Electronic check'),\n",
              " Row(PaymentMethod='Bank transfer (automatic)'),\n",
              " Row(PaymentMethod='Mailed check'),\n",
              " Row(PaymentMethod='Electronic check'),\n",
              " Row(PaymentMethod='Electronic check'),\n",
              " Row(PaymentMethod='Credit card (automatic)'),\n",
              " Row(PaymentMethod='Bank transfer (automatic)'),\n",
              " Row(PaymentMethod='Electronic check'),\n",
              " Row(PaymentMethod='Electronic check'),\n",
              " Row(PaymentMethod='Credit card (automatic)'),\n",
              " Row(PaymentMethod='Bank transfer (automatic)'),\n",
              " Row(PaymentMethod='Mailed check'),\n",
              " Row(PaymentMethod='Mailed check'),\n",
              " Row(PaymentMethod='Mailed check'),\n",
              " Row(PaymentMethod='Credit card (automatic)'),\n",
              " Row(PaymentMethod='Electronic check'),\n",
              " Row(PaymentMethod='Bank transfer (automatic)'),\n",
              " Row(PaymentMethod='Credit card (automatic)'),\n",
              " Row(PaymentMethod='Bank transfer (automatic)'),\n",
              " Row(PaymentMethod='Credit card (automatic)'),\n",
              " Row(PaymentMethod='Mailed check'),\n",
              " Row(PaymentMethod='Electronic check'),\n",
              " Row(PaymentMethod='Credit card (automatic)'),\n",
              " Row(PaymentMethod='Mailed check'),\n",
              " Row(PaymentMethod='Electronic check'),\n",
              " Row(PaymentMethod='Mailed check'),\n",
              " Row(PaymentMethod='Credit card (automatic)'),\n",
              " Row(PaymentMethod='Electronic check'),\n",
              " Row(PaymentMethod='Mailed check'),\n",
              " Row(PaymentMethod='Bank transfer (automatic)'),\n",
              " Row(PaymentMethod='Bank transfer (automatic)'),\n",
              " Row(PaymentMethod='Mailed check'),\n",
              " Row(PaymentMethod='Mailed check'),\n",
              " Row(PaymentMethod='Bank transfer (automatic)'),\n",
              " Row(PaymentMethod='Electronic check'),\n",
              " Row(PaymentMethod='Electronic check'),\n",
              " Row(PaymentMethod='Electronic check'),\n",
              " Row(PaymentMethod='Bank transfer (automatic)'),\n",
              " Row(PaymentMethod='Mailed check'),\n",
              " Row(PaymentMethod='Mailed check'),\n",
              " Row(PaymentMethod='Bank transfer (automatic)'),\n",
              " Row(PaymentMethod='Bank transfer (automatic)'),\n",
              " Row(PaymentMethod='Electronic check'),\n",
              " Row(PaymentMethod='Electronic check'),\n",
              " Row(PaymentMethod='Bank transfer (automatic)'),\n",
              " Row(PaymentMethod='Electronic check'),\n",
              " Row(PaymentMethod='Mailed check'),\n",
              " Row(PaymentMethod='Bank transfer (automatic)'),\n",
              " Row(PaymentMethod='Bank transfer (automatic)'),\n",
              " Row(PaymentMethod='Electronic check'),\n",
              " Row(PaymentMethod='Mailed check'),\n",
              " Row(PaymentMethod='Bank transfer (automatic)'),\n",
              " Row(PaymentMethod='Bank transfer (automatic)'),\n",
              " Row(PaymentMethod='Credit card (automatic)'),\n",
              " Row(PaymentMethod='Bank transfer (automatic)'),\n",
              " Row(PaymentMethod='Mailed check'),\n",
              " Row(PaymentMethod='Bank transfer (automatic)'),\n",
              " Row(PaymentMethod='Credit card (automatic)'),\n",
              " Row(PaymentMethod='Electronic check'),\n",
              " Row(PaymentMethod='Electronic check'),\n",
              " Row(PaymentMethod='Mailed check'),\n",
              " Row(PaymentMethod='Electronic check'),\n",
              " Row(PaymentMethod='Electronic check'),\n",
              " Row(PaymentMethod='Credit card (automatic)'),\n",
              " Row(PaymentMethod='Credit card (automatic)'),\n",
              " Row(PaymentMethod='Electronic check'),\n",
              " Row(PaymentMethod='Bank transfer (automatic)'),\n",
              " Row(PaymentMethod='Credit card (automatic)'),\n",
              " Row(PaymentMethod='Credit card (automatic)'),\n",
              " Row(PaymentMethod='Electronic check'),\n",
              " Row(PaymentMethod='Bank transfer (automatic)'),\n",
              " Row(PaymentMethod='Electronic check'),\n",
              " Row(PaymentMethod='Bank transfer (automatic)'),\n",
              " Row(PaymentMethod='Mailed check'),\n",
              " Row(PaymentMethod='Credit card (automatic)'),\n",
              " Row(PaymentMethod='Credit card (automatic)'),\n",
              " Row(PaymentMethod='Electronic check'),\n",
              " Row(PaymentMethod='Credit card (automatic)'),\n",
              " Row(PaymentMethod='Credit card (automatic)'),\n",
              " Row(PaymentMethod='Bank transfer (automatic)'),\n",
              " Row(PaymentMethod='Credit card (automatic)'),\n",
              " Row(PaymentMethod='Electronic check'),\n",
              " Row(PaymentMethod='Electronic check'),\n",
              " Row(PaymentMethod='Credit card (automatic)'),\n",
              " Row(PaymentMethod='Credit card (automatic)'),\n",
              " Row(PaymentMethod='Electronic check'),\n",
              " Row(PaymentMethod='Mailed check'),\n",
              " Row(PaymentMethod='Electronic check'),\n",
              " Row(PaymentMethod='Electronic check'),\n",
              " Row(PaymentMethod='Bank transfer (automatic)'),\n",
              " Row(PaymentMethod='Credit card (automatic)'),\n",
              " Row(PaymentMethod='Bank transfer (automatic)'),\n",
              " Row(PaymentMethod='Bank transfer (automatic)'),\n",
              " Row(PaymentMethod='Bank transfer (automatic)'),\n",
              " Row(PaymentMethod='Electronic check'),\n",
              " Row(PaymentMethod='Bank transfer (automatic)'),\n",
              " Row(PaymentMethod='Electronic check'),\n",
              " Row(PaymentMethod='Mailed check'),\n",
              " Row(PaymentMethod='Bank transfer (automatic)'),\n",
              " Row(PaymentMethod='Mailed check'),\n",
              " Row(PaymentMethod='Mailed check'),\n",
              " Row(PaymentMethod='Mailed check'),\n",
              " Row(PaymentMethod='Credit card (automatic)'),\n",
              " Row(PaymentMethod='Credit card (automatic)'),\n",
              " Row(PaymentMethod='Credit card (automatic)'),\n",
              " Row(PaymentMethod='Credit card (automatic)'),\n",
              " Row(PaymentMethod='Mailed check'),\n",
              " Row(PaymentMethod='Credit card (automatic)'),\n",
              " Row(PaymentMethod='Electronic check'),\n",
              " Row(PaymentMethod='Mailed check'),\n",
              " Row(PaymentMethod='Mailed check'),\n",
              " Row(PaymentMethod='Electronic check'),\n",
              " Row(PaymentMethod='Electronic check'),\n",
              " Row(PaymentMethod='Mailed check'),\n",
              " Row(PaymentMethod='Bank transfer (automatic)'),\n",
              " Row(PaymentMethod='Bank transfer (automatic)'),\n",
              " Row(PaymentMethod='Credit card (automatic)'),\n",
              " Row(PaymentMethod='Electronic check'),\n",
              " Row(PaymentMethod='Electronic check'),\n",
              " Row(PaymentMethod='Electronic check'),\n",
              " Row(PaymentMethod='Mailed check'),\n",
              " Row(PaymentMethod='Electronic check'),\n",
              " Row(PaymentMethod='Mailed check'),\n",
              " Row(PaymentMethod='Electronic check'),\n",
              " Row(PaymentMethod='Electronic check'),\n",
              " Row(PaymentMethod='Electronic check'),\n",
              " Row(PaymentMethod='Electronic check'),\n",
              " Row(PaymentMethod='Credit card (automatic)'),\n",
              " Row(PaymentMethod='Mailed check'),\n",
              " Row(PaymentMethod='Electronic check'),\n",
              " Row(PaymentMethod='Credit card (automatic)'),\n",
              " Row(PaymentMethod='Credit card (automatic)'),\n",
              " Row(PaymentMethod='Credit card (automatic)'),\n",
              " Row(PaymentMethod='Electronic check'),\n",
              " Row(PaymentMethod='Electronic check'),\n",
              " Row(PaymentMethod='Electronic check'),\n",
              " Row(PaymentMethod='Electronic check'),\n",
              " Row(PaymentMethod='Bank transfer (automatic)'),\n",
              " Row(PaymentMethod='Mailed check'),\n",
              " Row(PaymentMethod='Mailed check'),\n",
              " Row(PaymentMethod='Bank transfer (automatic)'),\n",
              " Row(PaymentMethod='Mailed check'),\n",
              " Row(PaymentMethod='Mailed check'),\n",
              " Row(PaymentMethod='Credit card (automatic)'),\n",
              " Row(PaymentMethod='Electronic check'),\n",
              " Row(PaymentMethod='Electronic check'),\n",
              " Row(PaymentMethod='Bank transfer (automatic)'),\n",
              " Row(PaymentMethod='Electronic check'),\n",
              " Row(PaymentMethod='Mailed check'),\n",
              " Row(PaymentMethod='Electronic check'),\n",
              " Row(PaymentMethod='Electronic check'),\n",
              " Row(PaymentMethod='Bank transfer (automatic)'),\n",
              " Row(PaymentMethod='Electronic check'),\n",
              " Row(PaymentMethod='Bank transfer (automatic)'),\n",
              " Row(PaymentMethod='Mailed check'),\n",
              " Row(PaymentMethod='Electronic check'),\n",
              " Row(PaymentMethod='Mailed check'),\n",
              " Row(PaymentMethod='Mailed check'),\n",
              " Row(PaymentMethod='Mailed check'),\n",
              " Row(PaymentMethod='Credit card (automatic)'),\n",
              " Row(PaymentMethod='Electronic check'),\n",
              " Row(PaymentMethod='Electronic check'),\n",
              " Row(PaymentMethod='Electronic check'),\n",
              " Row(PaymentMethod='Credit card (automatic)'),\n",
              " Row(PaymentMethod='Electronic check'),\n",
              " Row(PaymentMethod='Mailed check'),\n",
              " Row(PaymentMethod='Mailed check'),\n",
              " Row(PaymentMethod='Electronic check'),\n",
              " Row(PaymentMethod='Mailed check'),\n",
              " Row(PaymentMethod='Mailed check'),\n",
              " Row(PaymentMethod='Electronic check'),\n",
              " Row(PaymentMethod='Electronic check'),\n",
              " Row(PaymentMethod='Electronic check'),\n",
              " Row(PaymentMethod='Mailed check'),\n",
              " Row(PaymentMethod='Bank transfer (automatic)'),\n",
              " Row(PaymentMethod='Electronic check'),\n",
              " Row(PaymentMethod='Electronic check'),\n",
              " Row(PaymentMethod='Credit card (automatic)'),\n",
              " Row(PaymentMethod='Mailed check'),\n",
              " Row(PaymentMethod='Mailed check'),\n",
              " Row(PaymentMethod='Electronic check'),\n",
              " Row(PaymentMethod='Mailed check'),\n",
              " Row(PaymentMethod='Electronic check'),\n",
              " Row(PaymentMethod='Credit card (automatic)'),\n",
              " Row(PaymentMethod='Bank transfer (automatic)'),\n",
              " Row(PaymentMethod='Electronic check'),\n",
              " Row(PaymentMethod='Credit card (automatic)'),\n",
              " Row(PaymentMethod='Electronic check'),\n",
              " Row(PaymentMethod='Electronic check'),\n",
              " Row(PaymentMethod='Credit card (automatic)'),\n",
              " Row(PaymentMethod='Credit card (automatic)'),\n",
              " Row(PaymentMethod='Credit card (automatic)'),\n",
              " Row(PaymentMethod='Electronic check'),\n",
              " Row(PaymentMethod='Credit card (automatic)'),\n",
              " Row(PaymentMethod='Bank transfer (automatic)'),\n",
              " Row(PaymentMethod='Electronic check'),\n",
              " Row(PaymentMethod='Electronic check'),\n",
              " Row(PaymentMethod='Mailed check'),\n",
              " Row(PaymentMethod='Bank transfer (automatic)'),\n",
              " Row(PaymentMethod='Credit card (automatic)'),\n",
              " Row(PaymentMethod='Electronic check'),\n",
              " Row(PaymentMethod='Electronic check'),\n",
              " Row(PaymentMethod='Electronic check'),\n",
              " Row(PaymentMethod='Credit card (automatic)'),\n",
              " Row(PaymentMethod='Mailed check'),\n",
              " Row(PaymentMethod='Mailed check'),\n",
              " Row(PaymentMethod='Credit card (automatic)'),\n",
              " Row(PaymentMethod='Electronic check'),\n",
              " Row(PaymentMethod='Mailed check'),\n",
              " Row(PaymentMethod='Bank transfer (automatic)'),\n",
              " Row(PaymentMethod='Electronic check'),\n",
              " Row(PaymentMethod='Electronic check'),\n",
              " Row(PaymentMethod='Credit card (automatic)'),\n",
              " Row(PaymentMethod='Electronic check'),\n",
              " Row(PaymentMethod='Bank transfer (automatic)'),\n",
              " Row(PaymentMethod='Credit card (automatic)'),\n",
              " Row(PaymentMethod='Bank transfer (automatic)'),\n",
              " Row(PaymentMethod='Mailed check'),\n",
              " Row(PaymentMethod='Credit card (automatic)'),\n",
              " Row(PaymentMethod='Electronic check'),\n",
              " Row(PaymentMethod='Electronic check'),\n",
              " Row(PaymentMethod='Bank transfer (automatic)'),\n",
              " Row(PaymentMethod='Electronic check'),\n",
              " Row(PaymentMethod='Bank transfer (automatic)'),\n",
              " Row(PaymentMethod='Credit card (automatic)'),\n",
              " Row(PaymentMethod='Mailed check'),\n",
              " Row(PaymentMethod='Electronic check'),\n",
              " Row(PaymentMethod='Bank transfer (automatic)'),\n",
              " Row(PaymentMethod='Electronic check'),\n",
              " Row(PaymentMethod='Bank transfer (automatic)'),\n",
              " Row(PaymentMethod='Electronic check'),\n",
              " Row(PaymentMethod='Electronic check'),\n",
              " Row(PaymentMethod='Credit card (automatic)'),\n",
              " Row(PaymentMethod='Electronic check'),\n",
              " Row(PaymentMethod='Mailed check'),\n",
              " Row(PaymentMethod='Bank transfer (automatic)'),\n",
              " Row(PaymentMethod='Credit card (automatic)'),\n",
              " Row(PaymentMethod='Mailed check'),\n",
              " Row(PaymentMethod='Bank transfer (automatic)'),\n",
              " Row(PaymentMethod='Bank transfer (automatic)'),\n",
              " Row(PaymentMethod='Bank transfer (automatic)'),\n",
              " Row(PaymentMethod='Mailed check'),\n",
              " Row(PaymentMethod='Credit card (automatic)'),\n",
              " Row(PaymentMethod='Credit card (automatic)'),\n",
              " Row(PaymentMethod='Mailed check'),\n",
              " Row(PaymentMethod='Electronic check'),\n",
              " Row(PaymentMethod='Mailed check'),\n",
              " Row(PaymentMethod='Credit card (automatic)'),\n",
              " Row(PaymentMethod='Credit card (automatic)'),\n",
              " Row(PaymentMethod='Credit card (automatic)'),\n",
              " Row(PaymentMethod='Mailed check'),\n",
              " Row(PaymentMethod='Bank transfer (automatic)'),\n",
              " Row(PaymentMethod='Electronic check'),\n",
              " Row(PaymentMethod='Electronic check'),\n",
              " Row(PaymentMethod='Bank transfer (automatic)'),\n",
              " Row(PaymentMethod='Mailed check'),\n",
              " Row(PaymentMethod='Bank transfer (automatic)'),\n",
              " Row(PaymentMethod='Credit card (automatic)'),\n",
              " Row(PaymentMethod='Bank transfer (automatic)'),\n",
              " Row(PaymentMethod='Mailed check'),\n",
              " Row(PaymentMethod='Electronic check'),\n",
              " Row(PaymentMethod='Electronic check'),\n",
              " Row(PaymentMethod='Mailed check'),\n",
              " Row(PaymentMethod='Electronic check'),\n",
              " Row(PaymentMethod='Bank transfer (automatic)'),\n",
              " Row(PaymentMethod='Bank transfer (automatic)'),\n",
              " Row(PaymentMethod='Electronic check'),\n",
              " Row(PaymentMethod='Mailed check'),\n",
              " Row(PaymentMethod='Electronic check'),\n",
              " Row(PaymentMethod='Credit card (automatic)'),\n",
              " Row(PaymentMethod='Bank transfer (automatic)'),\n",
              " Row(PaymentMethod='Credit card (automatic)'),\n",
              " Row(PaymentMethod='Electronic check'),\n",
              " Row(PaymentMethod='Mailed check'),\n",
              " Row(PaymentMethod='Bank transfer (automatic)'),\n",
              " Row(PaymentMethod='Credit card (automatic)'),\n",
              " Row(PaymentMethod='Credit card (automatic)'),\n",
              " Row(PaymentMethod='Bank transfer (automatic)'),\n",
              " Row(PaymentMethod='Mailed check'),\n",
              " Row(PaymentMethod='Credit card (automatic)'),\n",
              " Row(PaymentMethod='Bank transfer (automatic)'),\n",
              " Row(PaymentMethod='Mailed check'),\n",
              " Row(PaymentMethod='Mailed check'),\n",
              " Row(PaymentMethod='Mailed check'),\n",
              " Row(PaymentMethod='Electronic check'),\n",
              " Row(PaymentMethod='Bank transfer (automatic)'),\n",
              " Row(PaymentMethod='Electronic check'),\n",
              " Row(PaymentMethod='Electronic check'),\n",
              " Row(PaymentMethod='Bank transfer (automatic)'),\n",
              " Row(PaymentMethod='Bank transfer (automatic)'),\n",
              " Row(PaymentMethod='Bank transfer (automatic)'),\n",
              " Row(PaymentMethod='Mailed check'),\n",
              " Row(PaymentMethod='Electronic check'),\n",
              " Row(PaymentMethod='Bank transfer (automatic)'),\n",
              " Row(PaymentMethod='Mailed check'),\n",
              " Row(PaymentMethod='Bank transfer (automatic)'),\n",
              " Row(PaymentMethod='Credit card (automatic)'),\n",
              " Row(PaymentMethod='Mailed check'),\n",
              " Row(PaymentMethod='Bank transfer (automatic)'),\n",
              " Row(PaymentMethod='Bank transfer (automatic)'),\n",
              " Row(PaymentMethod='Bank transfer (automatic)'),\n",
              " Row(PaymentMethod='Electronic check'),\n",
              " Row(PaymentMethod='Bank transfer (automatic)'),\n",
              " Row(PaymentMethod='Bank transfer (automatic)'),\n",
              " Row(PaymentMethod='Mailed check'),\n",
              " Row(PaymentMethod='Credit card (automatic)'),\n",
              " Row(PaymentMethod='Electronic check'),\n",
              " Row(PaymentMethod='Bank transfer (automatic)'),\n",
              " Row(PaymentMethod='Electronic check'),\n",
              " Row(PaymentMethod='Credit card (automatic)'),\n",
              " Row(PaymentMethod='Bank transfer (automatic)'),\n",
              " Row(PaymentMethod='Credit card (automatic)'),\n",
              " Row(PaymentMethod='Bank transfer (automatic)'),\n",
              " Row(PaymentMethod='Mailed check'),\n",
              " Row(PaymentMethod='Electronic check'),\n",
              " Row(PaymentMethod='Credit card (automatic)'),\n",
              " Row(PaymentMethod='Mailed check'),\n",
              " Row(PaymentMethod='Electronic check'),\n",
              " Row(PaymentMethod='Electronic check'),\n",
              " Row(PaymentMethod='Electronic check'),\n",
              " Row(PaymentMethod='Mailed check'),\n",
              " Row(PaymentMethod='Bank transfer (automatic)'),\n",
              " Row(PaymentMethod='Electronic check'),\n",
              " Row(PaymentMethod='Bank transfer (automatic)'),\n",
              " Row(PaymentMethod='Mailed check'),\n",
              " Row(PaymentMethod='Mailed check'),\n",
              " Row(PaymentMethod='Bank transfer (automatic)'),\n",
              " Row(PaymentMethod='Electronic check'),\n",
              " Row(PaymentMethod='Mailed check'),\n",
              " Row(PaymentMethod='Electronic check'),\n",
              " Row(PaymentMethod='Bank transfer (automatic)'),\n",
              " Row(PaymentMethod='Bank transfer (automatic)'),\n",
              " Row(PaymentMethod='Mailed check'),\n",
              " Row(PaymentMethod='Electronic check'),\n",
              " Row(PaymentMethod='Mailed check'),\n",
              " Row(PaymentMethod='Bank transfer (automatic)'),\n",
              " Row(PaymentMethod='Electronic check'),\n",
              " Row(PaymentMethod='Electronic check'),\n",
              " Row(PaymentMethod='Bank transfer (automatic)'),\n",
              " Row(PaymentMethod='Mailed check'),\n",
              " Row(PaymentMethod='Electronic check'),\n",
              " Row(PaymentMethod='Electronic check'),\n",
              " Row(PaymentMethod='Mailed check'),\n",
              " Row(PaymentMethod='Electronic check'),\n",
              " Row(PaymentMethod='Mailed check'),\n",
              " Row(PaymentMethod='Electronic check'),\n",
              " Row(PaymentMethod='Mailed check'),\n",
              " Row(PaymentMethod='Mailed check'),\n",
              " Row(PaymentMethod='Electronic check'),\n",
              " Row(PaymentMethod='Electronic check'),\n",
              " Row(PaymentMethod='Electronic check'),\n",
              " Row(PaymentMethod='Electronic check'),\n",
              " Row(PaymentMethod='Electronic check'),\n",
              " Row(PaymentMethod='Bank transfer (automatic)'),\n",
              " Row(PaymentMethod='Mailed check'),\n",
              " Row(PaymentMethod='Bank transfer (automatic)'),\n",
              " Row(PaymentMethod='Electronic check'),\n",
              " Row(PaymentMethod='Bank transfer (automatic)'),\n",
              " Row(PaymentMethod='Electronic check'),\n",
              " Row(PaymentMethod='Credit card (automatic)'),\n",
              " Row(PaymentMethod='Electronic check'),\n",
              " Row(PaymentMethod='Bank transfer (automatic)'),\n",
              " Row(PaymentMethod='Bank transfer (automatic)'),\n",
              " Row(PaymentMethod='Electronic check'),\n",
              " Row(PaymentMethod='Bank transfer (automatic)'),\n",
              " Row(PaymentMethod='Electronic check'),\n",
              " Row(PaymentMethod='Electronic check'),\n",
              " Row(PaymentMethod='Bank transfer (automatic)'),\n",
              " Row(PaymentMethod='Mailed check'),\n",
              " Row(PaymentMethod='Bank transfer (automatic)'),\n",
              " Row(PaymentMethod='Mailed check'),\n",
              " Row(PaymentMethod='Bank transfer (automatic)'),\n",
              " Row(PaymentMethod='Electronic check'),\n",
              " Row(PaymentMethod='Bank transfer (automatic)'),\n",
              " Row(PaymentMethod='Credit card (automatic)'),\n",
              " Row(PaymentMethod='Credit card (automatic)'),\n",
              " Row(PaymentMethod='Bank transfer (automatic)'),\n",
              " Row(PaymentMethod='Bank transfer (automatic)'),\n",
              " Row(PaymentMethod='Credit card (automatic)'),\n",
              " Row(PaymentMethod='Electronic check'),\n",
              " Row(PaymentMethod='Mailed check'),\n",
              " Row(PaymentMethod='Electronic check'),\n",
              " Row(PaymentMethod='Electronic check'),\n",
              " Row(PaymentMethod='Mailed check'),\n",
              " Row(PaymentMethod='Credit card (automatic)'),\n",
              " Row(PaymentMethod='Electronic check'),\n",
              " Row(PaymentMethod='Electronic check'),\n",
              " Row(PaymentMethod='Bank transfer (automatic)'),\n",
              " Row(PaymentMethod='Credit card (automatic)'),\n",
              " Row(PaymentMethod='Bank transfer (automatic)'),\n",
              " Row(PaymentMethod='Mailed check'),\n",
              " Row(PaymentMethod='Electronic check'),\n",
              " Row(PaymentMethod='Bank transfer (automatic)'),\n",
              " Row(PaymentMethod='Credit card (automatic)'),\n",
              " Row(PaymentMethod='Electronic check'),\n",
              " Row(PaymentMethod='Electronic check'),\n",
              " Row(PaymentMethod='Bank transfer (automatic)'),\n",
              " Row(PaymentMethod='Bank transfer (automatic)'),\n",
              " Row(PaymentMethod='Electronic check'),\n",
              " Row(PaymentMethod='Electronic check'),\n",
              " Row(PaymentMethod='Credit card (automatic)'),\n",
              " Row(PaymentMethod='Credit card (automatic)'),\n",
              " Row(PaymentMethod='Mailed check'),\n",
              " Row(PaymentMethod='Bank transfer (automatic)'),\n",
              " Row(PaymentMethod='Credit card (automatic)'),\n",
              " Row(PaymentMethod='Credit card (automatic)'),\n",
              " Row(PaymentMethod='Electronic check'),\n",
              " Row(PaymentMethod='Credit card (automatic)'),\n",
              " Row(PaymentMethod='Electronic check'),\n",
              " Row(PaymentMethod='Electronic check'),\n",
              " Row(PaymentMethod='Bank transfer (automatic)'),\n",
              " Row(PaymentMethod='Mailed check'),\n",
              " Row(PaymentMethod='Credit card (automatic)'),\n",
              " Row(PaymentMethod='Bank transfer (automatic)'),\n",
              " Row(PaymentMethod='Bank transfer (automatic)'),\n",
              " Row(PaymentMethod='Mailed check'),\n",
              " Row(PaymentMethod='Mailed check'),\n",
              " Row(PaymentMethod='Bank transfer (automatic)'),\n",
              " Row(PaymentMethod='Credit card (automatic)'),\n",
              " Row(PaymentMethod='Bank transfer (automatic)'),\n",
              " Row(PaymentMethod='Mailed check'),\n",
              " Row(PaymentMethod='Bank transfer (automatic)'),\n",
              " Row(PaymentMethod='Bank transfer (automatic)'),\n",
              " Row(PaymentMethod='Mailed check'),\n",
              " Row(PaymentMethod='Bank transfer (automatic)'),\n",
              " Row(PaymentMethod='Bank transfer (automatic)'),\n",
              " Row(PaymentMethod='Bank transfer (automatic)'),\n",
              " Row(PaymentMethod='Credit card (automatic)'),\n",
              " Row(PaymentMethod='Bank transfer (automatic)'),\n",
              " Row(PaymentMethod='Bank transfer (automatic)'),\n",
              " Row(PaymentMethod='Bank transfer (automatic)'),\n",
              " Row(PaymentMethod='Mailed check'),\n",
              " Row(PaymentMethod='Electronic check'),\n",
              " Row(PaymentMethod='Electronic check'),\n",
              " Row(PaymentMethod='Electronic check'),\n",
              " Row(PaymentMethod='Mailed check'),\n",
              " Row(PaymentMethod='Credit card (automatic)'),\n",
              " Row(PaymentMethod='Credit card (automatic)'),\n",
              " Row(PaymentMethod='Bank transfer (automatic)'),\n",
              " Row(PaymentMethod='Credit card (automatic)'),\n",
              " Row(PaymentMethod='Electronic check'),\n",
              " Row(PaymentMethod='Credit card (automatic)'),\n",
              " Row(PaymentMethod='Electronic check'),\n",
              " Row(PaymentMethod='Credit card (automatic)'),\n",
              " Row(PaymentMethod='Credit card (automatic)'),\n",
              " Row(PaymentMethod='Bank transfer (automatic)'),\n",
              " Row(PaymentMethod='Credit card (automatic)'),\n",
              " Row(PaymentMethod='Credit card (automatic)'),\n",
              " Row(PaymentMethod='Electronic check'),\n",
              " Row(PaymentMethod='Mailed check'),\n",
              " Row(PaymentMethod='Bank transfer (automatic)'),\n",
              " Row(PaymentMethod='Electronic check'),\n",
              " Row(PaymentMethod='Electronic check'),\n",
              " Row(PaymentMethod='Mailed check'),\n",
              " Row(PaymentMethod='Mailed check'),\n",
              " Row(PaymentMethod='Mailed check'),\n",
              " Row(PaymentMethod='Electronic check'),\n",
              " Row(PaymentMethod='Mailed check'),\n",
              " Row(PaymentMethod='Mailed check'),\n",
              " Row(PaymentMethod='Electronic check'),\n",
              " Row(PaymentMethod='Credit card (automatic)'),\n",
              " Row(PaymentMethod='Mailed check'),\n",
              " Row(PaymentMethod='Electronic check'),\n",
              " Row(PaymentMethod='Electronic check'),\n",
              " Row(PaymentMethod='Credit card (automatic)'),\n",
              " Row(PaymentMethod='Electronic check'),\n",
              " Row(PaymentMethod='Credit card (automatic)'),\n",
              " Row(PaymentMethod='Credit card (automatic)'),\n",
              " Row(PaymentMethod='Mailed check'),\n",
              " Row(PaymentMethod='Mailed check'),\n",
              " Row(PaymentMethod='Mailed check'),\n",
              " Row(PaymentMethod='Mailed check'),\n",
              " Row(PaymentMethod='Credit card (automatic)'),\n",
              " Row(PaymentMethod='Credit card (automatic)'),\n",
              " Row(PaymentMethod='Credit card (automatic)'),\n",
              " Row(PaymentMethod='Mailed check'),\n",
              " Row(PaymentMethod='Bank transfer (automatic)'),\n",
              " Row(PaymentMethod='Electronic check'),\n",
              " Row(PaymentMethod='Bank transfer (automatic)'),\n",
              " Row(PaymentMethod='Credit card (automatic)'),\n",
              " Row(PaymentMethod='Credit card (automatic)'),\n",
              " Row(PaymentMethod='Credit card (automatic)'),\n",
              " Row(PaymentMethod='Bank transfer (automatic)'),\n",
              " Row(PaymentMethod='Bank transfer (automatic)'),\n",
              " Row(PaymentMethod='Electronic check'),\n",
              " Row(PaymentMethod='Mailed check'),\n",
              " Row(PaymentMethod='Mailed check'),\n",
              " Row(PaymentMethod='Credit card (automatic)'),\n",
              " Row(PaymentMethod='Bank transfer (automatic)'),\n",
              " Row(PaymentMethod='Mailed check'),\n",
              " Row(PaymentMethod='Credit card (automatic)'),\n",
              " Row(PaymentMethod='Credit card (automatic)'),\n",
              " Row(PaymentMethod='Bank transfer (automatic)'),\n",
              " Row(PaymentMethod='Bank transfer (automatic)'),\n",
              " Row(PaymentMethod='Bank transfer (automatic)'),\n",
              " Row(PaymentMethod='Electronic check'),\n",
              " Row(PaymentMethod='Electronic check'),\n",
              " Row(PaymentMethod='Mailed check'),\n",
              " Row(PaymentMethod='Bank transfer (automatic)'),\n",
              " Row(PaymentMethod='Electronic check'),\n",
              " Row(PaymentMethod='Electronic check'),\n",
              " Row(PaymentMethod='Credit card (automatic)'),\n",
              " Row(PaymentMethod='Electronic check'),\n",
              " Row(PaymentMethod='Credit card (automatic)'),\n",
              " Row(PaymentMethod='Bank transfer (automatic)'),\n",
              " Row(PaymentMethod='Bank transfer (automatic)'),\n",
              " Row(PaymentMethod='Credit card (automatic)'),\n",
              " Row(PaymentMethod='Mailed check'),\n",
              " Row(PaymentMethod='Bank transfer (automatic)'),\n",
              " Row(PaymentMethod='Electronic check'),\n",
              " Row(PaymentMethod='Bank transfer (automatic)'),\n",
              " Row(PaymentMethod='Credit card (automatic)'),\n",
              " Row(PaymentMethod='Bank transfer (automatic)'),\n",
              " Row(PaymentMethod='Electronic check'),\n",
              " Row(PaymentMethod='Bank transfer (automatic)'),\n",
              " Row(PaymentMethod='Electronic check'),\n",
              " Row(PaymentMethod='Electronic check'),\n",
              " Row(PaymentMethod='Bank transfer (automatic)'),\n",
              " Row(PaymentMethod='Electronic check'),\n",
              " Row(PaymentMethod='Electronic check'),\n",
              " Row(PaymentMethod='Mailed check'),\n",
              " Row(PaymentMethod='Electronic check'),\n",
              " Row(PaymentMethod='Electronic check'),\n",
              " Row(PaymentMethod='Credit card (automatic)'),\n",
              " Row(PaymentMethod='Bank transfer (automatic)'),\n",
              " Row(PaymentMethod='Mailed check'),\n",
              " Row(PaymentMethod='Mailed check'),\n",
              " Row(PaymentMethod='Mailed check'),\n",
              " Row(PaymentMethod='Electronic check'),\n",
              " Row(PaymentMethod='Credit card (automatic)'),\n",
              " Row(PaymentMethod='Credit card (automatic)'),\n",
              " Row(PaymentMethod='Bank transfer (automatic)'),\n",
              " Row(PaymentMethod='Mailed check'),\n",
              " Row(PaymentMethod='Bank transfer (automatic)'),\n",
              " Row(PaymentMethod='Mailed check'),\n",
              " Row(PaymentMethod='Mailed check'),\n",
              " Row(PaymentMethod='Mailed check'),\n",
              " Row(PaymentMethod='Mailed check'),\n",
              " Row(PaymentMethod='Bank transfer (automatic)'),\n",
              " Row(PaymentMethod='Mailed check'),\n",
              " Row(PaymentMethod='Electronic check'),\n",
              " Row(PaymentMethod='Bank transfer (automatic)'),\n",
              " Row(PaymentMethod='Mailed check'),\n",
              " Row(PaymentMethod='Bank transfer (automatic)'),\n",
              " Row(PaymentMethod='Bank transfer (automatic)'),\n",
              " Row(PaymentMethod='Credit card (automatic)'),\n",
              " Row(PaymentMethod='Mailed check'),\n",
              " Row(PaymentMethod='Credit card (automatic)'),\n",
              " Row(PaymentMethod='Electronic check'),\n",
              " Row(PaymentMethod='Electronic check'),\n",
              " Row(PaymentMethod='Bank transfer (automatic)'),\n",
              " Row(PaymentMethod='Electronic check'),\n",
              " Row(PaymentMethod='Mailed check'),\n",
              " Row(PaymentMethod='Bank transfer (automatic)'),\n",
              " Row(PaymentMethod='Electronic check'),\n",
              " Row(PaymentMethod='Bank transfer (automatic)'),\n",
              " Row(PaymentMethod='Credit card (automatic)'),\n",
              " Row(PaymentMethod='Credit card (automatic)'),\n",
              " Row(PaymentMethod='Mailed check'),\n",
              " Row(PaymentMethod='Electronic check'),\n",
              " Row(PaymentMethod='Bank transfer (automatic)'),\n",
              " Row(PaymentMethod='Electronic check'),\n",
              " Row(PaymentMethod='Mailed check'),\n",
              " Row(PaymentMethod='Bank transfer (automatic)'),\n",
              " Row(PaymentMethod='Mailed check'),\n",
              " Row(PaymentMethod='Bank transfer (automatic)'),\n",
              " Row(PaymentMethod='Credit card (automatic)'),\n",
              " Row(PaymentMethod='Credit card (automatic)'),\n",
              " Row(PaymentMethod='Mailed check'),\n",
              " Row(PaymentMethod='Mailed check'),\n",
              " Row(PaymentMethod='Bank transfer (automatic)'),\n",
              " Row(PaymentMethod='Electronic check'),\n",
              " Row(PaymentMethod='Bank transfer (automatic)'),\n",
              " Row(PaymentMethod='Credit card (automatic)'),\n",
              " Row(PaymentMethod='Bank transfer (automatic)'),\n",
              " Row(PaymentMethod='Electronic check'),\n",
              " Row(PaymentMethod='Electronic check'),\n",
              " Row(PaymentMethod='Mailed check'),\n",
              " Row(PaymentMethod='Mailed check'),\n",
              " Row(PaymentMethod='Bank transfer (automatic)'),\n",
              " Row(PaymentMethod='Mailed check'),\n",
              " Row(PaymentMethod='Bank transfer (automatic)'),\n",
              " Row(PaymentMethod='Credit card (automatic)'),\n",
              " Row(PaymentMethod='Credit card (automatic)'),\n",
              " Row(PaymentMethod='Mailed check'),\n",
              " Row(PaymentMethod='Mailed check'),\n",
              " Row(PaymentMethod='Credit card (automatic)'),\n",
              " Row(PaymentMethod='Mailed check'),\n",
              " Row(PaymentMethod='Mailed check'),\n",
              " Row(PaymentMethod='Credit card (automatic)'),\n",
              " Row(PaymentMethod='Bank transfer (automatic)'),\n",
              " Row(PaymentMethod='Bank transfer (automatic)'),\n",
              " Row(PaymentMethod='Credit card (automatic)'),\n",
              " Row(PaymentMethod='Credit card (automatic)'),\n",
              " Row(PaymentMethod='Mailed check'),\n",
              " Row(PaymentMethod='Credit card (automatic)'),\n",
              " Row(PaymentMethod='Electronic check'),\n",
              " Row(PaymentMethod='Electronic check'),\n",
              " Row(PaymentMethod='Electronic check'),\n",
              " Row(PaymentMethod='Mailed check'),\n",
              " Row(PaymentMethod='Mailed check'),\n",
              " Row(PaymentMethod='Electronic check'),\n",
              " Row(PaymentMethod='Credit card (automatic)'),\n",
              " Row(PaymentMethod='Credit card (automatic)'),\n",
              " Row(PaymentMethod='Electronic check'),\n",
              " Row(PaymentMethod='Mailed check'),\n",
              " Row(PaymentMethod='Electronic check'),\n",
              " Row(PaymentMethod='Bank transfer (automatic)'),\n",
              " Row(PaymentMethod='Bank transfer (automatic)'),\n",
              " Row(PaymentMethod='Credit card (automatic)'),\n",
              " Row(PaymentMethod='Credit card (automatic)'),\n",
              " Row(PaymentMethod='Credit card (automatic)'),\n",
              " Row(PaymentMethod='Bank transfer (automatic)'),\n",
              " Row(PaymentMethod='Bank transfer (automatic)'),\n",
              " Row(PaymentMethod='Mailed check'),\n",
              " Row(PaymentMethod='Electronic check'),\n",
              " Row(PaymentMethod='Electronic check'),\n",
              " Row(PaymentMethod='Mailed check'),\n",
              " Row(PaymentMethod='Credit card (automatic)'),\n",
              " Row(PaymentMethod='Credit card (automatic)'),\n",
              " Row(PaymentMethod='Bank transfer (automatic)'),\n",
              " Row(PaymentMethod='Mailed check'),\n",
              " Row(PaymentMethod='Mailed check'),\n",
              " Row(PaymentMethod='Credit card (automatic)'),\n",
              " Row(PaymentMethod='Mailed check'),\n",
              " Row(PaymentMethod='Credit card (automatic)'),\n",
              " Row(PaymentMethod='Credit card (automatic)'),\n",
              " Row(PaymentMethod='Mailed check'),\n",
              " Row(PaymentMethod='Electronic check'),\n",
              " Row(PaymentMethod='Electronic check'),\n",
              " Row(PaymentMethod='Bank transfer (automatic)'),\n",
              " Row(PaymentMethod='Mailed check'),\n",
              " Row(PaymentMethod='Bank transfer (automatic)'),\n",
              " Row(PaymentMethod='Bank transfer (automatic)'),\n",
              " Row(PaymentMethod='Mailed check'),\n",
              " Row(PaymentMethod='Electronic check'),\n",
              " Row(PaymentMethod='Electronic check'),\n",
              " Row(PaymentMethod='Bank transfer (automatic)'),\n",
              " Row(PaymentMethod='Mailed check'),\n",
              " Row(PaymentMethod='Mailed check'),\n",
              " Row(PaymentMethod='Mailed check'),\n",
              " Row(PaymentMethod='Bank transfer (automatic)'),\n",
              " Row(PaymentMethod='Electronic check'),\n",
              " Row(PaymentMethod='Mailed check'),\n",
              " Row(PaymentMethod='Credit card (automatic)'),\n",
              " Row(PaymentMethod='Electronic check'),\n",
              " Row(PaymentMethod='Mailed check'),\n",
              " Row(PaymentMethod='Mailed check'),\n",
              " Row(PaymentMethod='Electronic check'),\n",
              " Row(PaymentMethod='Credit card (automatic)'),\n",
              " Row(PaymentMethod='Mailed check'),\n",
              " Row(PaymentMethod='Electronic check'),\n",
              " Row(PaymentMethod='Credit card (automatic)'),\n",
              " Row(PaymentMethod='Electronic check'),\n",
              " Row(PaymentMethod='Credit card (automatic)'),\n",
              " Row(PaymentMethod='Mailed check'),\n",
              " Row(PaymentMethod='Credit card (automatic)'),\n",
              " Row(PaymentMethod='Electronic check'),\n",
              " Row(PaymentMethod='Bank transfer (automatic)'),\n",
              " Row(PaymentMethod='Electronic check'),\n",
              " Row(PaymentMethod='Bank transfer (automatic)'),\n",
              " Row(PaymentMethod='Bank transfer (automatic)'),\n",
              " Row(PaymentMethod='Electronic check'),\n",
              " Row(PaymentMethod='Bank transfer (automatic)'),\n",
              " Row(PaymentMethod='Credit card (automatic)'),\n",
              " Row(PaymentMethod='Credit card (automatic)'),\n",
              " Row(PaymentMethod='Mailed check'),\n",
              " Row(PaymentMethod='Credit card (automatic)'),\n",
              " Row(PaymentMethod='Credit card (automatic)'),\n",
              " Row(PaymentMethod='Mailed check'),\n",
              " Row(PaymentMethod='Credit card (automatic)'),\n",
              " Row(PaymentMethod='Bank transfer (automatic)'),\n",
              " Row(PaymentMethod='Electronic check'),\n",
              " Row(PaymentMethod='Electronic check'),\n",
              " Row(PaymentMethod='Credit card (automatic)'),\n",
              " Row(PaymentMethod='Electronic check'),\n",
              " Row(PaymentMethod='Mailed check'),\n",
              " Row(PaymentMethod='Credit card (automatic)'),\n",
              " Row(PaymentMethod='Electronic check'),\n",
              " Row(PaymentMethod='Bank transfer (automatic)'),\n",
              " Row(PaymentMethod='Credit card (automatic)'),\n",
              " Row(PaymentMethod='Credit card (automatic)'),\n",
              " Row(PaymentMethod='Electronic check'),\n",
              " Row(PaymentMethod='Electronic check'),\n",
              " Row(PaymentMethod='Bank transfer (automatic)'),\n",
              " Row(PaymentMethod='Credit card (automatic)'),\n",
              " Row(PaymentMethod='Electronic check'),\n",
              " Row(PaymentMethod='Bank transfer (automatic)'),\n",
              " Row(PaymentMethod='Bank transfer (automatic)'),\n",
              " Row(PaymentMethod='Mailed check'),\n",
              " Row(PaymentMethod='Mailed check'),\n",
              " Row(PaymentMethod='Bank transfer (automatic)'),\n",
              " Row(PaymentMethod='Electronic check'),\n",
              " Row(PaymentMethod='Credit card (automatic)'),\n",
              " Row(PaymentMethod='Electronic check'),\n",
              " Row(PaymentMethod='Credit card (automatic)'),\n",
              " Row(PaymentMethod='Electronic check'),\n",
              " Row(PaymentMethod='Credit card (automatic)'),\n",
              " Row(PaymentMethod='Credit card (automatic)'),\n",
              " Row(PaymentMethod='Credit card (automatic)'),\n",
              " Row(PaymentMethod='Bank transfer (automatic)'),\n",
              " Row(PaymentMethod='Mailed check'),\n",
              " Row(PaymentMethod='Electronic check'),\n",
              " Row(PaymentMethod='Electronic check'),\n",
              " Row(PaymentMethod='Electronic check'),\n",
              " Row(PaymentMethod='Credit card (automatic)'),\n",
              " Row(PaymentMethod='Credit card (automatic)'),\n",
              " Row(PaymentMethod='Electronic check'),\n",
              " Row(PaymentMethod='Electronic check'),\n",
              " Row(PaymentMethod='Electronic check'),\n",
              " Row(PaymentMethod='Credit card (automatic)'),\n",
              " Row(PaymentMethod='Mailed check'),\n",
              " Row(PaymentMethod='Credit card (automatic)'),\n",
              " Row(PaymentMethod='Credit card (automatic)'),\n",
              " Row(PaymentMethod='Electronic check'),\n",
              " Row(PaymentMethod='Credit card (automatic)'),\n",
              " Row(PaymentMethod='Bank transfer (automatic)'),\n",
              " Row(PaymentMethod='Bank transfer (automatic)'),\n",
              " Row(PaymentMethod='Electronic check'),\n",
              " Row(PaymentMethod='Mailed check'),\n",
              " Row(PaymentMethod='Bank transfer (automatic)'),\n",
              " Row(PaymentMethod='Credit card (automatic)'),\n",
              " Row(PaymentMethod='Credit card (automatic)'),\n",
              " Row(PaymentMethod='Credit card (automatic)'),\n",
              " Row(PaymentMethod='Bank transfer (automatic)'),\n",
              " Row(PaymentMethod='Mailed check'),\n",
              " Row(PaymentMethod='Mailed check'),\n",
              " Row(PaymentMethod='Electronic check'),\n",
              " Row(PaymentMethod='Credit card (automatic)'),\n",
              " Row(PaymentMethod='Electronic check'),\n",
              " Row(PaymentMethod='Credit card (automatic)'),\n",
              " Row(PaymentMethod='Electronic check'),\n",
              " Row(PaymentMethod='Electronic check'),\n",
              " Row(PaymentMethod='Credit card (automatic)'),\n",
              " Row(PaymentMethod='Credit card (automatic)'),\n",
              " Row(PaymentMethod='Bank transfer (automatic)'),\n",
              " Row(PaymentMethod='Electronic check'),\n",
              " Row(PaymentMethod='Electronic check'),\n",
              " Row(PaymentMethod='Credit card (automatic)'),\n",
              " Row(PaymentMethod='Mailed check'),\n",
              " Row(PaymentMethod='Bank transfer (automatic)'),\n",
              " Row(PaymentMethod='Mailed check'),\n",
              " Row(PaymentMethod='Electronic check'),\n",
              " Row(PaymentMethod='Mailed check'),\n",
              " Row(PaymentMethod='Bank transfer (automatic)'),\n",
              " Row(PaymentMethod='Credit card (automatic)'),\n",
              " Row(PaymentMethod='Credit card (automatic)'),\n",
              " Row(PaymentMethod='Electronic check'),\n",
              " Row(PaymentMethod='Bank transfer (automatic)'),\n",
              " Row(PaymentMethod='Credit card (automatic)'),\n",
              " Row(PaymentMethod='Electronic check'),\n",
              " Row(PaymentMethod='Bank transfer (automatic)'),\n",
              " Row(PaymentMethod='Electronic check'),\n",
              " Row(PaymentMethod='Bank transfer (automatic)'),\n",
              " Row(PaymentMethod='Electronic check'),\n",
              " Row(PaymentMethod='Credit card (automatic)'),\n",
              " Row(PaymentMethod='Electronic check'),\n",
              " Row(PaymentMethod='Electronic check'),\n",
              " Row(PaymentMethod='Credit card (automatic)'),\n",
              " Row(PaymentMethod='Mailed check'),\n",
              " Row(PaymentMethod='Electronic check'),\n",
              " Row(PaymentMethod='Bank transfer (automatic)'),\n",
              " Row(PaymentMethod='Credit card (automatic)'),\n",
              " Row(PaymentMethod='Electronic check'),\n",
              " Row(PaymentMethod='Electronic check'),\n",
              " Row(PaymentMethod='Bank transfer (automatic)'),\n",
              " Row(PaymentMethod='Credit card (automatic)'),\n",
              " Row(PaymentMethod='Electronic check'),\n",
              " Row(PaymentMethod='Credit card (automatic)'),\n",
              " Row(PaymentMethod='Credit card (automatic)'),\n",
              " Row(PaymentMethod='Bank transfer (automatic)'),\n",
              " Row(PaymentMethod='Electronic check'),\n",
              " Row(PaymentMethod='Bank transfer (automatic)'),\n",
              " Row(PaymentMethod='Credit card (automatic)'),\n",
              " Row(PaymentMethod='Mailed check'),\n",
              " Row(PaymentMethod='Credit card (automatic)'),\n",
              " Row(PaymentMethod='Electronic check'),\n",
              " Row(PaymentMethod='Credit card (automatic)'),\n",
              " Row(PaymentMethod='Credit card (automatic)'),\n",
              " Row(PaymentMethod='Electronic check'),\n",
              " Row(PaymentMethod='Electronic check'),\n",
              " Row(PaymentMethod='Bank transfer (automatic)'),\n",
              " Row(PaymentMethod='Mailed check'),\n",
              " Row(PaymentMethod='Electronic check'),\n",
              " Row(PaymentMethod='Electronic check'),\n",
              " Row(PaymentMethod='Credit card (automatic)'),\n",
              " Row(PaymentMethod='Bank transfer (automatic)'),\n",
              " Row(PaymentMethod='Credit card (automatic)'),\n",
              " Row(PaymentMethod='Bank transfer (automatic)'),\n",
              " Row(PaymentMethod='Electronic check'),\n",
              " Row(PaymentMethod='Bank transfer (automatic)'),\n",
              " Row(PaymentMethod='Bank transfer (automatic)'),\n",
              " Row(PaymentMethod='Electronic check'),\n",
              " Row(PaymentMethod='Mailed check'),\n",
              " Row(PaymentMethod='Bank transfer (automatic)'),\n",
              " Row(PaymentMethod='Mailed check'),\n",
              " Row(PaymentMethod='Electronic check'),\n",
              " Row(PaymentMethod='Credit card (automatic)'),\n",
              " Row(PaymentMethod='Electronic check'),\n",
              " Row(PaymentMethod='Bank transfer (automatic)'),\n",
              " Row(PaymentMethod='Electronic check'),\n",
              " Row(PaymentMethod='Electronic check'),\n",
              " Row(PaymentMethod='Credit card (automatic)'),\n",
              " Row(PaymentMethod='Electronic check'),\n",
              " Row(PaymentMethod='Bank transfer (automatic)'),\n",
              " Row(PaymentMethod='Bank transfer (automatic)'),\n",
              " Row(PaymentMethod='Credit card (automatic)'),\n",
              " Row(PaymentMethod='Electronic check'),\n",
              " Row(PaymentMethod='Mailed check'),\n",
              " Row(PaymentMethod='Electronic check'),\n",
              " Row(PaymentMethod='Mailed check'),\n",
              " Row(PaymentMethod='Electronic check'),\n",
              " Row(PaymentMethod='Credit card (automatic)'),\n",
              " Row(PaymentMethod='Mailed check'),\n",
              " Row(PaymentMethod='Bank transfer (automatic)'),\n",
              " Row(PaymentMethod='Electronic check'),\n",
              " Row(PaymentMethod='Credit card (automatic)'),\n",
              " Row(PaymentMethod='Bank transfer (automatic)'),\n",
              " Row(PaymentMethod='Bank transfer (automatic)'),\n",
              " Row(PaymentMethod='Bank transfer (automatic)'),\n",
              " Row(PaymentMethod='Mailed check'),\n",
              " Row(PaymentMethod='Mailed check'),\n",
              " Row(PaymentMethod='Electronic check'),\n",
              " Row(PaymentMethod='Bank transfer (automatic)'),\n",
              " Row(PaymentMethod='Mailed check'),\n",
              " Row(PaymentMethod='Electronic check'),\n",
              " Row(PaymentMethod='Mailed check'),\n",
              " Row(PaymentMethod='Electronic check'),\n",
              " Row(PaymentMethod='Electronic check'),\n",
              " Row(PaymentMethod='Credit card (automatic)'),\n",
              " Row(PaymentMethod='Bank transfer (automatic)'),\n",
              " Row(PaymentMethod='Electronic check'),\n",
              " Row(PaymentMethod='Bank transfer (automatic)'),\n",
              " Row(PaymentMethod='Electronic check'),\n",
              " Row(PaymentMethod='Bank transfer (automatic)'),\n",
              " Row(PaymentMethod='Mailed check'),\n",
              " Row(PaymentMethod='Bank transfer (automatic)'),\n",
              " Row(PaymentMethod='Bank transfer (automatic)'),\n",
              " Row(PaymentMethod='Mailed check'),\n",
              " Row(PaymentMethod='Credit card (automatic)'),\n",
              " Row(PaymentMethod='Electronic check'),\n",
              " Row(PaymentMethod='Mailed check'),\n",
              " Row(PaymentMethod='Credit card (automatic)'),\n",
              " Row(PaymentMethod='Electronic check'),\n",
              " Row(PaymentMethod='Electronic check'),\n",
              " Row(PaymentMethod='Bank transfer (automatic)'),\n",
              " Row(PaymentMethod='Bank transfer (automatic)'),\n",
              " Row(PaymentMethod='Electronic check'),\n",
              " Row(PaymentMethod='Credit card (automatic)'),\n",
              " Row(PaymentMethod='Electronic check'),\n",
              " Row(PaymentMethod='Electronic check'),\n",
              " Row(PaymentMethod='Electronic check'),\n",
              " Row(PaymentMethod='Electronic check'),\n",
              " Row(PaymentMethod='Bank transfer (automatic)'),\n",
              " Row(PaymentMethod='Bank transfer (automatic)'),\n",
              " Row(PaymentMethod='Mailed check'),\n",
              " Row(PaymentMethod='Electronic check'),\n",
              " Row(PaymentMethod='Electronic check'),\n",
              " Row(PaymentMethod='Bank transfer (automatic)'),\n",
              " Row(PaymentMethod='Bank transfer (automatic)'),\n",
              " Row(PaymentMethod='Bank transfer (automatic)'),\n",
              " Row(PaymentMethod='Bank transfer (automatic)'),\n",
              " Row(PaymentMethod='Mailed check'),\n",
              " Row(PaymentMethod='Credit card (automatic)'),\n",
              " Row(PaymentMethod='Bank transfer (automatic)'),\n",
              " Row(PaymentMethod='Credit card (automatic)'),\n",
              " Row(PaymentMethod='Credit card (automatic)'),\n",
              " Row(PaymentMethod='Credit card (automatic)'),\n",
              " Row(PaymentMethod='Credit card (automatic)'),\n",
              " Row(PaymentMethod='Credit card (automatic)'),\n",
              " Row(PaymentMethod='Credit card (automatic)'),\n",
              " Row(PaymentMethod='Electronic check'),\n",
              " Row(PaymentMethod='Bank transfer (automatic)'),\n",
              " Row(PaymentMethod='Electronic check'),\n",
              " ...]"
            ]
          },
          "metadata": {
            "tags": []
          },
          "execution_count": 35
        }
      ]
    },
    {
      "cell_type": "markdown",
      "metadata": {
        "id": "RymRupli3FZi"
      },
      "source": [
        "Show"
      ]
    },
    {
      "cell_type": "code",
      "metadata": {
        "colab": {
          "base_uri": "https://localhost:8080/"
        },
        "id": "eD1pDyuQ3H9P",
        "outputId": "92adfef2-464f-4843-89c5-226becadea24"
      },
      "source": [
        "df.select('PaymentMethod').show()"
      ],
      "execution_count": null,
      "outputs": [
        {
          "output_type": "stream",
          "text": [
            "+--------------------+\n",
            "|       PaymentMethod|\n",
            "+--------------------+\n",
            "|    Electronic check|\n",
            "|        Mailed check|\n",
            "|        Mailed check|\n",
            "|Bank transfer (au...|\n",
            "|    Electronic check|\n",
            "|    Electronic check|\n",
            "|Credit card (auto...|\n",
            "|        Mailed check|\n",
            "|    Electronic check|\n",
            "|Bank transfer (au...|\n",
            "|        Mailed check|\n",
            "|Credit card (auto...|\n",
            "|Credit card (auto...|\n",
            "|Bank transfer (au...|\n",
            "|    Electronic check|\n",
            "|Credit card (auto...|\n",
            "|        Mailed check|\n",
            "|Bank transfer (au...|\n",
            "|Credit card (auto...|\n",
            "|    Electronic check|\n",
            "+--------------------+\n",
            "only showing top 20 rows\n",
            "\n"
          ],
          "name": "stdout"
        }
      ]
    },
    {
      "cell_type": "markdown",
      "metadata": {
        "id": "jjZh7aDeM7pr"
      },
      "source": [
        "**b) Count: This action will help us count the total number of records in the paymentmethod column. we can also do this for the entire df**"
      ]
    },
    {
      "cell_type": "code",
      "metadata": {
        "colab": {
          "base_uri": "https://localhost:8080/"
        },
        "id": "qWrwuOyzZKZr",
        "outputId": "4efae9bf-0d00-49f5-8142-6db2b48008c7"
      },
      "source": [
        "datacollect = df.(\"select * from |PaymentMethod \").count()\r\n",
        "print(datacollect)"
      ],
      "execution_count": null,
      "outputs": [
        {
          "output_type": "stream",
          "text": [
            "7043\n"
          ],
          "name": "stdout"
        }
      ]
    },
    {
      "cell_type": "code",
      "metadata": {
        "colab": {
          "base_uri": "https://localhost:8080/"
        },
        "id": "8Jsl1xg6q8Wl",
        "outputId": "cf620271-4ee1-44ae-9d7c-bd24153f9f6b"
      },
      "source": [
        "df.count()"
      ],
      "execution_count": null,
      "outputs": [
        {
          "output_type": "execute_result",
          "data": {
            "text/plain": [
              "7043"
            ]
          },
          "metadata": {
            "tags": []
          },
          "execution_count": 13
        }
      ]
    },
    {
      "cell_type": "markdown",
      "metadata": {
        "id": "akYGpxyD2xLK"
      },
      "source": [
        "**Counting Null records in the partner column**"
      ]
    },
    {
      "cell_type": "code",
      "metadata": {
        "colab": {
          "base_uri": "https://localhost:8080/"
        },
        "id": "MACy4062cHoV",
        "outputId": "20e03a58-aeee-4373-9bb3-dbca0d72f49f"
      },
      "source": [
        "df.filter(df[\"partner\"].isNull()).count()"
      ],
      "execution_count": null,
      "outputs": [
        {
          "output_type": "execute_result",
          "data": {
            "text/plain": [
              "0"
            ]
          },
          "metadata": {
            "tags": []
          },
          "execution_count": 31
        }
      ]
    },
    {
      "cell_type": "markdown",
      "metadata": {
        "id": "44Et-mmqNBM7"
      },
      "source": [
        "**c Take: with this action, we selected the internetservice column and returned the first 20 elements in a row format**"
      ]
    },
    {
      "cell_type": "code",
      "metadata": {
        "colab": {
          "base_uri": "https://localhost:8080/"
        },
        "id": "E1ddgNPIOT1P",
        "outputId": "c8b320b5-48c9-4f10-d6be-5b9fa32dedcb"
      },
      "source": [
        "df.select('InternetService').take(20)"
      ],
      "execution_count": null,
      "outputs": [
        {
          "output_type": "execute_result",
          "data": {
            "text/plain": [
              "[Row(InternetService='DSL'),\n",
              " Row(InternetService='DSL'),\n",
              " Row(InternetService='DSL'),\n",
              " Row(InternetService='DSL'),\n",
              " Row(InternetService='Fiber optic'),\n",
              " Row(InternetService='Fiber optic'),\n",
              " Row(InternetService='Fiber optic'),\n",
              " Row(InternetService='DSL'),\n",
              " Row(InternetService='Fiber optic'),\n",
              " Row(InternetService='DSL'),\n",
              " Row(InternetService='DSL'),\n",
              " Row(InternetService='No'),\n",
              " Row(InternetService='Fiber optic'),\n",
              " Row(InternetService='Fiber optic'),\n",
              " Row(InternetService='Fiber optic'),\n",
              " Row(InternetService='Fiber optic'),\n",
              " Row(InternetService='No'),\n",
              " Row(InternetService='Fiber optic'),\n",
              " Row(InternetService='DSL'),\n",
              " Row(InternetService='Fiber optic')]"
            ]
          },
          "metadata": {
            "tags": []
          },
          "execution_count": 40
        }
      ]
    },
    {
      "cell_type": "markdown",
      "metadata": {
        "id": "XfaJ84HJ1vpt"
      },
      "source": [
        "**d) Min: using an aggregate function min, i will display the minimum monthly charge on the df**"
      ]
    },
    {
      "cell_type": "code",
      "metadata": {
        "colab": {
          "base_uri": "https://localhost:8080/"
        },
        "id": "4ZQj1AnB1zZx",
        "outputId": "3c66c13c-b14d-4d96-d23b-6f2da0a27998"
      },
      "source": [
        "df.agg({\"MonthlyCharges\":\"min\",\"MonthlyCharges\":\"min\"}).show()"
      ],
      "execution_count": null,
      "outputs": [
        {
          "output_type": "stream",
          "text": [
            "+-------------------+\n",
            "|min(MonthlyCharges)|\n",
            "+-------------------+\n",
            "|              18.25|\n",
            "+-------------------+\n",
            "\n"
          ],
          "name": "stdout"
        }
      ]
    },
    {
      "cell_type": "markdown",
      "metadata": {
        "id": "YDPBbTTv5_NZ"
      },
      "source": [
        "e) **Sum: Displaying the sum of monthly charges on each contract**"
      ]
    },
    {
      "cell_type": "code",
      "metadata": {
        "colab": {
          "base_uri": "https://localhost:8080/"
        },
        "id": "Q1OzJQPf5-be",
        "outputId": "c629cd9b-85f0-45cf-bc22-fa6d862d930c"
      },
      "source": [
        "df.groupby(\"contract\").agg({'MonthlyCharges':'sum'}).show()"
      ],
      "execution_count": null,
      "outputs": [
        {
          "output_type": "stream",
          "text": [
            "+--------------+-------------------+\n",
            "|      contract|sum(MonthlyCharges)|\n",
            "+--------------+-------------------+\n",
            "|Month-to-month| 257294.14999999892|\n",
            "|      One year|  95816.59999999986|\n",
            "|      Two year| 103005.84999999995|\n",
            "+--------------+-------------------+\n",
            "\n"
          ],
          "name": "stdout"
        }
      ]
    },
    {
      "cell_type": "markdown",
      "metadata": {
        "id": "BAGkH3jUjMr0"
      },
      "source": [
        "**f) Max:\r\n",
        "aggregation Function: Let us show the maximum monthly charge and maximum totalcharge**"
      ]
    },
    {
      "cell_type": "code",
      "metadata": {
        "colab": {
          "base_uri": "https://localhost:8080/"
        },
        "id": "Ajan407RjX1_",
        "outputId": "e174a20f-7cee-4878-97b3-13784bf1a89c"
      },
      "source": [
        "df.agg({\"MonthlyCharges\":\"max\",\"TotalCharges\":\"max\"}).show()"
      ],
      "execution_count": null,
      "outputs": [
        {
          "output_type": "stream",
          "text": [
            "+-------------------+-----------------+\n",
            "|max(MonthlyCharges)|max(TotalCharges)|\n",
            "+-------------------+-----------------+\n",
            "|             118.75|            999.9|\n",
            "+-------------------+-----------------+\n",
            "\n"
          ],
          "name": "stdout"
        }
      ]
    },
    {
      "cell_type": "markdown",
      "metadata": {
        "id": "8zmVWSmOEqaB"
      },
      "source": [
        "Map reduce example:\r\n"
      ]
    },
    {
      "cell_type": "code",
      "metadata": {
        "colab": {
          "base_uri": "https://localhost:8080/"
        },
        "id": "5qMnKKNQ-mPZ",
        "outputId": "c30cb64a-89c9-41c4-8e5b-a6095a81a698"
      },
      "source": [
        "# For map reduce we need to create SparkContext so that we can read a textfile and perform mapping function on it. \r\n",
        "from pyspark import SparkContext\r\n",
        "sc = SparkContext.getOrCreate()\r\n",
        "text_file = sc.textFile(\"/content/icp4.txt\")\r\n",
        "counts = text_file.flatMap(lambda line: line.split(\" \")) \\\r\n",
        "             .map(lambda word: (word, 1)) \\\r\n",
        "             .reduceByKey(lambda a, b: a + b)\r\n",
        "for x in counts.collect():\r\n",
        "    print (x)"
      ],
      "execution_count": null,
      "outputs": [
        {
          "output_type": "stream",
          "text": [
            "('People', 1)\n",
            "('who', 1)\n",
            "('have', 1)\n",
            "('been', 1)\n",
            "('fully', 1)\n",
            "('vaccinated', 1)\n",
            "('against', 1)\n",
            "('coronavirus', 1)\n",
            "('--', 2)\n",
            "('right', 1)\n",
            "('now', 1)\n",
            "('that', 1)\n",
            "('means', 1)\n",
            "('with', 2)\n",
            "('two', 1)\n",
            "('doses', 1)\n",
            "('of', 1)\n",
            "('either', 1)\n",
            "('the', 4)\n",
            "('Pfizer/BioNTech', 1)\n",
            "('or', 1)\n",
            "('Moderna', 1)\n",
            "('vaccine', 1)\n",
            "('can', 1)\n",
            "('skip', 1)\n",
            "('quarantine', 1)\n",
            "('if', 1)\n",
            "('they', 2)\n",
            "('are', 1)\n",
            "('exposed', 1)\n",
            "('to', 2)\n",
            "('someone', 1)\n",
            "('infected', 1)\n",
            "('virus,', 1)\n",
            "('US', 1)\n",
            "('Centers', 1)\n",
            "('for', 2)\n",
            "('Disease', 1)\n",
            "('Control', 1)\n",
            "('and', 1)\n",
            "('Prevention', 1)\n",
            "('said', 1)\n",
            "('Wednesday.That', 1)\n",
            "(\"doesn't\", 1)\n",
            "('mean', 1)\n",
            "('should', 1)\n",
            "('stop', 1)\n",
            "('taking', 1)\n",
            "('precautions,', 1)\n",
            "('CDC', 1)\n",
            "('noted', 1)\n",
            "('in', 1)\n",
            "('updated', 1)\n",
            "('guidance.', 1)\n",
            "(\"It's\", 1)\n",
            "('just', 1)\n",
            "('not', 1)\n",
            "('necessary', 1)\n",
            "('them', 1)\n",
            "('quarantine.', 1)\n"
          ],
          "name": "stdout"
        }
      ]
    },
    {
      "cell_type": "code",
      "metadata": {
        "id": "Nh0s0u8svST6"
      },
      "source": [
        "rdd = sc.textFile(\"/content/icp4.txt\")"
      ],
      "execution_count": null,
      "outputs": []
    },
    {
      "cell_type": "code",
      "metadata": {
        "colab": {
          "base_uri": "https://localhost:8080/"
        },
        "id": "mWcci-jQzYpW",
        "outputId": "6698e945-94a5-48af-e75b-e5820febc90d"
      },
      "source": [
        "rdd.take(5)"
      ],
      "execution_count": null,
      "outputs": [
        {
          "output_type": "execute_result",
          "data": {
            "text/plain": [
              "[\"People who have been fully vaccinated against coronavirus -- right now that means with two doses of either the Pfizer/BioNTech or Moderna vaccine -- can skip quarantine if they are exposed to someone infected with the virus, the US Centers for Disease Control and Prevention said Wednesday.That doesn't mean they should stop taking precautions, the CDC noted in updated guidance. It's just not necessary for them to quarantine.\"]"
            ]
          },
          "metadata": {
            "tags": []
          },
          "execution_count": 28
        }
      ]
    },
    {
      "cell_type": "code",
      "metadata": {
        "colab": {
          "base_uri": "https://localhost:8080/"
        },
        "id": "w0Km8ZY8VeDM",
        "outputId": "5e0a2385-1fde-45b6-add1-f4b8725972e1"
      },
      "source": [
        "df.rdd.map(lambda line: line.StreamingTV  .split(\" \")).take(50)"
      ],
      "execution_count": null,
      "outputs": [
        {
          "output_type": "execute_result",
          "data": {
            "text/plain": [
              "[['No'],\n",
              " ['No'],\n",
              " ['No'],\n",
              " ['No'],\n",
              " ['No'],\n",
              " ['Yes'],\n",
              " ['Yes'],\n",
              " ['No'],\n",
              " ['Yes'],\n",
              " ['No'],\n",
              " ['No'],\n",
              " ['No', 'internet', 'service'],\n",
              " ['Yes'],\n",
              " ['Yes'],\n",
              " ['Yes'],\n",
              " ['Yes'],\n",
              " ['No', 'internet', 'service'],\n",
              " ['Yes'],\n",
              " ['No'],\n",
              " ['No'],\n",
              " ['No'],\n",
              " ['No', 'internet', 'service'],\n",
              " ['No', 'internet', 'service'],\n",
              " ['No'],\n",
              " ['No'],\n",
              " ['No'],\n",
              " ['Yes'],\n",
              " ['No'],\n",
              " ['Yes'],\n",
              " ['Yes'],\n",
              " ['No'],\n",
              " ['Yes'],\n",
              " ['No'],\n",
              " ['No', 'internet', 'service'],\n",
              " ['No'],\n",
              " ['Yes'],\n",
              " ['No'],\n",
              " ['No'],\n",
              " ['Yes'],\n",
              " ['Yes'],\n",
              " ['No'],\n",
              " ['Yes'],\n",
              " ['No', 'internet', 'service'],\n",
              " ['Yes'],\n",
              " ['Yes'],\n",
              " ['No'],\n",
              " ['No'],\n",
              " ['Yes'],\n",
              " ['Yes'],\n",
              " ['No']]"
            ]
          },
          "metadata": {
            "tags": []
          },
          "execution_count": 32
        }
      ]
    }
  ]
}